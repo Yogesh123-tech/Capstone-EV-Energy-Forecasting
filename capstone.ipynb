{
 "cells": [
  {
   "cell_type": "markdown",
   "id": "5e9d07af",
   "metadata": {},
   "source": [
    "Capstone Project"
   ]
  },
  {
   "cell_type": "markdown",
   "id": "0548886d",
   "metadata": {},
   "source": [
    "Importing pandas liberary"
   ]
  },
  {
   "cell_type": "code",
   "execution_count": 2,
   "id": "6c61f369",
   "metadata": {},
   "outputs": [],
   "source": [
    "import pandas as pd \n",
    "import numpy as np\n",
    "import seaborn as sns\n",
    "import matplotlib.pyplot as plt\n",
    "import plotly.express as px\n",
    "\n"
   ]
  },
  {
   "cell_type": "markdown",
   "id": "04094531",
   "metadata": {},
   "source": [
    "Loading the data and Putting in the Variables"
   ]
  },
  {
   "cell_type": "code",
   "execution_count": 3,
   "id": "e1bc0f0f",
   "metadata": {},
   "outputs": [],
   "source": [
    "df  = pd.read_excel('state_codes.xlsx')\n",
    "df1 = pd.read_excel('States_Annual_Energy_Generation_Sources_1990_2019.xlsx',header=None)\n",
    "df2 = pd.read_excel('States_Electric_Vehicle_Registrations_2018 (1).xlsx',header=None)\n",
    "df3 = pd.read_excel('c:/Users/abc/Desktop/electric vehicle/States_All_Vehicle_Registrations_2018.xlsx',header=None)\n"
   ]
  },
  {
   "cell_type": "markdown",
   "id": "66beb075",
   "metadata": {},
   "source": [
    "Cleaning the dataframe(df3)"
   ]
  },
  {
   "cell_type": "code",
   "execution_count": 4,
   "id": "be50f656",
   "metadata": {},
   "outputs": [
    {
     "data": {
      "text/plain": [
       "Index([' STATE MOTOR-VEHICLE REGISTRATIONS - 2018  December 2019   STATE  ',\n",
       "       '    (Revised February 2021)  AUTOMOBILESPRIVATE ANDCOMMERCIAL(INCLUDING',\n",
       "       '         PUBLICLYOWNED (1)', '          TOTAL',\n",
       "       '       BUSES PRIVATE ANDCOMMERCIAL', '         PUBLICLYOWNED (1)',\n",
       "       '          TOTAL', '       TRUCKS PRIVATE ANDCOMMERCIAL',\n",
       "       '         PUBLICLYOWNED (1)', '          TOTAL',\n",
       "       '       MOTORCYCLES PRIVATE ANDCOMMERCIAL',\n",
       "       '         PUBLICLYOWNED (1)', '          TOTAL',\n",
       "       '       ALL MOTOR VEHICLES PRIVATE ANDCOMMERCIAL',\n",
       "       '         PUBLICLYOWNED (1)', '    TABLE MV-1     TOTAL'],\n",
       "      dtype='object', name=0)"
      ]
     },
     "execution_count": 4,
     "metadata": {},
     "output_type": "execute_result"
    }
   ],
   "source": [
    "df3 = pd.read_excel('c:/Users/abc/Desktop/electric vehicle/States_All_Vehicle_Registrations_2018.xlsx',header=None)\n",
    "df3.head(50)                               # Exploring the dataframe \n",
    "df3.head(20)\n",
    "x = df3.columns.to_list()\n",
    "df3.head(5)\n",
    "\n",
    "df3.loc[0] = df3.iloc[0:11].fillna(' ').agg(''.join) #combining the rows\n",
    "df3.columns = df3.loc[0]                             #assigning the first row as columns\n",
    "df3 = df3.drop(df3.index[:12])                       #removing 0 to 12 indexed rows  \n",
    "df3.reset_index(inplace=True)                        #resetting the index \n",
    "df3.drop(columns='index',inplace=True)               #droping the column 'index'\n",
    "df3.isnull().sum()                                   #checking for the null values    \n",
    "df3.dropna(inplace=True)                             #removing the null values\n",
    "df3.shape                                            #exploring the rows and columns of dataframe\n",
    "df3.duplicated().sum()                               #checking for duplicated values\n",
    "\n",
    "for i in df3[df3.columns[1:]]:                       #applying loop for changing datatype\n",
    "    df3[i] = df3[i].astype('int64')\n",
    "df3.shape\n",
    "\n",
    "\n",
    "df3.columns[1:16].to_list                            #applying for loop for replacing the\n",
    "                                                     #outlier with null values\n",
    "for col in df3.columns[1:16].to_list():\n",
    "\n",
    "    q1 = df3[i].quantile(0.25)\n",
    "    q3 = df3[i].quantile(0.75)\n",
    "    IQR = q3-q1\n",
    "    min_range = q1-(1.5*IQR)\n",
    "    max_range = q3+(1.5*IQR)\n",
    "    \n",
    "    #df3 = df3[df3[i]<max_range]\n",
    "    df3.loc[df3[i]>max_range]=np.nan\n",
    "\n",
    "for i in df3.columns[1:16]:\n",
    "    df3[i]=df3[i].fillna(df3[i].median())                   # replacing null value by median \n",
    "df3[' STATE MOTOR-VEHICLE REGISTRATIONS - 2018  December 2019   STATE  ']=df3[' STATE MOTOR-VEHICLE REGISTRATIONS - 2018  December 2019   STATE  '].fillna('Unknown')    \n",
    "\n",
    "for i in df3.columns[1:16] :\n",
    "    df3[i] =  df3[i].astype('int64')\n",
    "\n",
    "df3.iloc[0,[3,6,9,12]].sum()\n",
    "df3.columns\n"
   ]
  },
  {
   "cell_type": "markdown",
   "id": "9d4b25e9",
   "metadata": {},
   "source": [
    "Exploring and Cleaning the dataframe name --> 'df'"
   ]
  },
  {
   "cell_type": "code",
   "execution_count": 5,
   "id": "25b4d167",
   "metadata": {},
   "outputs": [
    {
     "name": "stdout",
     "output_type": "stream",
     "text": [
      "<class 'pandas.core.frame.DataFrame'>\n",
      "RangeIndex: 51 entries, 0 to 50\n",
      "Data columns (total 2 columns):\n",
      " #   Column      Non-Null Count  Dtype \n",
      "---  ------      --------------  ----- \n",
      " 0   state_code  51 non-null     object\n",
      " 1   state_name  51 non-null     object\n",
      "dtypes: object(2)\n",
      "memory usage: 948.0+ bytes\n"
     ]
    },
    {
     "data": {
      "text/html": [
       "<div>\n",
       "<style scoped>\n",
       "    .dataframe tbody tr th:only-of-type {\n",
       "        vertical-align: middle;\n",
       "    }\n",
       "\n",
       "    .dataframe tbody tr th {\n",
       "        vertical-align: top;\n",
       "    }\n",
       "\n",
       "    .dataframe thead th {\n",
       "        text-align: right;\n",
       "    }\n",
       "</style>\n",
       "<table border=\"1\" class=\"dataframe\">\n",
       "  <thead>\n",
       "    <tr style=\"text-align: right;\">\n",
       "      <th></th>\n",
       "      <th>state_code</th>\n",
       "      <th>state_name</th>\n",
       "    </tr>\n",
       "  </thead>\n",
       "  <tbody>\n",
       "    <tr>\n",
       "      <th>0</th>\n",
       "      <td>AK</td>\n",
       "      <td>Alaska</td>\n",
       "    </tr>\n",
       "    <tr>\n",
       "      <th>1</th>\n",
       "      <td>AL</td>\n",
       "      <td>Alabama</td>\n",
       "    </tr>\n",
       "  </tbody>\n",
       "</table>\n",
       "</div>"
      ],
      "text/plain": [
       "  state_code state_name\n",
       "0         AK     Alaska\n",
       "1         AL    Alabama"
      ]
     },
     "execution_count": 5,
     "metadata": {},
     "output_type": "execute_result"
    }
   ],
   "source": [
    "df\n",
    "df.info()\n",
    "df.describe()\n",
    "df.isnull().sum()\n",
    "df.duplicated().sum()\n",
    "df.value_counts().sum()\n",
    "df.head(2)"
   ]
  },
  {
   "cell_type": "markdown",
   "id": "eca605be",
   "metadata": {},
   "source": [
    "Exploring and Cleaning the dataframe named --> 'df1' "
   ]
  },
  {
   "cell_type": "code",
   "execution_count": 6,
   "id": "205029e2",
   "metadata": {},
   "outputs": [
    {
     "name": "stdout",
     "output_type": "stream",
     "text": [
      "[np.int64(1), 'YEAR', 'STATE', 'TYPE OF PRODUCER', 'ENERGY SOURCE', 'GENERATION (Megawatthours)']\n"
     ]
    },
    {
     "data": {
      "text/html": [
       "<div>\n",
       "<style scoped>\n",
       "    .dataframe tbody tr th:only-of-type {\n",
       "        vertical-align: middle;\n",
       "    }\n",
       "\n",
       "    .dataframe tbody tr th {\n",
       "        vertical-align: top;\n",
       "    }\n",
       "\n",
       "    .dataframe thead th {\n",
       "        text-align: right;\n",
       "    }\n",
       "</style>\n",
       "<table border=\"1\" class=\"dataframe\">\n",
       "  <thead>\n",
       "    <tr style=\"text-align: right;\">\n",
       "      <th></th>\n",
       "      <th>YEAR</th>\n",
       "      <th>STATE</th>\n",
       "      <th>TYPE OF PRODUCER</th>\n",
       "      <th>ENERGY SOURCE</th>\n",
       "      <th>GENERATION (Megawatthours)</th>\n",
       "    </tr>\n",
       "  </thead>\n",
       "  <tbody>\n",
       "    <tr>\n",
       "      <th>1</th>\n",
       "      <td>1990</td>\n",
       "      <td>AK</td>\n",
       "      <td>Total Electric Power Industry</td>\n",
       "      <td>Total</td>\n",
       "      <td>5599506</td>\n",
       "    </tr>\n",
       "    <tr>\n",
       "      <th>2</th>\n",
       "      <td>1990</td>\n",
       "      <td>AK</td>\n",
       "      <td>Total Electric Power Industry</td>\n",
       "      <td>Coal</td>\n",
       "      <td>510573</td>\n",
       "    </tr>\n",
       "    <tr>\n",
       "      <th>3</th>\n",
       "      <td>1990</td>\n",
       "      <td>AK</td>\n",
       "      <td>Total Electric Power Industry</td>\n",
       "      <td>Hydroelectric Conventional</td>\n",
       "      <td>974521</td>\n",
       "    </tr>\n",
       "    <tr>\n",
       "      <th>4</th>\n",
       "      <td>1990</td>\n",
       "      <td>AK</td>\n",
       "      <td>Total Electric Power Industry</td>\n",
       "      <td>Natural Gas</td>\n",
       "      <td>3466261</td>\n",
       "    </tr>\n",
       "    <tr>\n",
       "      <th>5</th>\n",
       "      <td>1990</td>\n",
       "      <td>AK</td>\n",
       "      <td>Total Electric Power Industry</td>\n",
       "      <td>Petroleum</td>\n",
       "      <td>497116</td>\n",
       "    </tr>\n",
       "    <tr>\n",
       "      <th>...</th>\n",
       "      <td>...</td>\n",
       "      <td>...</td>\n",
       "      <td>...</td>\n",
       "      <td>...</td>\n",
       "      <td>...</td>\n",
       "    </tr>\n",
       "    <tr>\n",
       "      <th>53752</th>\n",
       "      <td>2019</td>\n",
       "      <td>WY</td>\n",
       "      <td>Electric Generators, Electric Utilities</td>\n",
       "      <td>Coal</td>\n",
       "      <td>34313690</td>\n",
       "    </tr>\n",
       "    <tr>\n",
       "      <th>53753</th>\n",
       "      <td>2019</td>\n",
       "      <td>WY</td>\n",
       "      <td>Electric Generators, Electric Utilities</td>\n",
       "      <td>Hydroelectric Conventional</td>\n",
       "      <td>984521</td>\n",
       "    </tr>\n",
       "    <tr>\n",
       "      <th>53754</th>\n",
       "      <td>2019</td>\n",
       "      <td>WY</td>\n",
       "      <td>Electric Generators, Electric Utilities</td>\n",
       "      <td>Natural Gas</td>\n",
       "      <td>411640</td>\n",
       "    </tr>\n",
       "    <tr>\n",
       "      <th>53755</th>\n",
       "      <td>2019</td>\n",
       "      <td>WY</td>\n",
       "      <td>Electric Generators, Electric Utilities</td>\n",
       "      <td>Petroleum</td>\n",
       "      <td>43547</td>\n",
       "    </tr>\n",
       "    <tr>\n",
       "      <th>53756</th>\n",
       "      <td>2019</td>\n",
       "      <td>WY</td>\n",
       "      <td>Electric Generators, Electric Utilities</td>\n",
       "      <td>Wind</td>\n",
       "      <td>1853341</td>\n",
       "    </tr>\n",
       "  </tbody>\n",
       "</table>\n",
       "<p>53756 rows × 5 columns</p>\n",
       "</div>"
      ],
      "text/plain": [
       "0      YEAR STATE                         TYPE OF PRODUCER  \\\n",
       "1      1990    AK            Total Electric Power Industry   \n",
       "2      1990    AK            Total Electric Power Industry   \n",
       "3      1990    AK            Total Electric Power Industry   \n",
       "4      1990    AK            Total Electric Power Industry   \n",
       "5      1990    AK            Total Electric Power Industry   \n",
       "...     ...   ...                                      ...   \n",
       "53752  2019    WY  Electric Generators, Electric Utilities   \n",
       "53753  2019    WY  Electric Generators, Electric Utilities   \n",
       "53754  2019    WY  Electric Generators, Electric Utilities   \n",
       "53755  2019    WY  Electric Generators, Electric Utilities   \n",
       "53756  2019    WY  Electric Generators, Electric Utilities   \n",
       "\n",
       "0                   ENERGY SOURCE GENERATION (Megawatthours)  \n",
       "1                           Total                    5599506  \n",
       "2                            Coal                     510573  \n",
       "3      Hydroelectric Conventional                     974521  \n",
       "4                     Natural Gas                    3466261  \n",
       "5                       Petroleum                     497116  \n",
       "...                           ...                        ...  \n",
       "53752                        Coal                   34313690  \n",
       "53753  Hydroelectric Conventional                     984521  \n",
       "53754                 Natural Gas                     411640  \n",
       "53755                   Petroleum                      43547  \n",
       "53756                        Wind                    1853341  \n",
       "\n",
       "[53756 rows x 5 columns]"
      ]
     },
     "execution_count": 6,
     "metadata": {},
     "output_type": "execute_result"
    }
   ],
   "source": [
    "df1 = pd.read_excel('States_Annual_Energy_Generation_Sources_1990_2019.xlsx',header=None)\n",
    "df1.head()\n",
    "df1.tail()\n",
    "#df1.info()                                 # summary of the dataframe\n",
    "df1.describe()                              # statistical summary \n",
    "df1= df1.drop(0)                            # delete first empty row \n",
    "df1 =df1.reset_index()\n",
    "df1.columns = df1.iloc[0]                   # set first row as cols name \n",
    "df1 =df1.drop(0)\n",
    "print(df1.columns.tolist())\n",
    "df1 = df1.drop(columns= df1.columns[0])     # delete the column \n",
    "df1.isnull().sum()                          # checking for null values\n",
    "df1.duplicated().sum()  \n",
    "df1                    # checking for duplicate val.\n"
   ]
  },
  {
   "cell_type": "markdown",
   "id": "d19f0870",
   "metadata": {},
   "source": [
    "Exploring and Changing datatype of columns"
   ]
  },
  {
   "cell_type": "code",
   "execution_count": 7,
   "id": "d46c4682",
   "metadata": {},
   "outputs": [
    {
     "name": "stdout",
     "output_type": "stream",
     "text": [
      "<class 'pandas.core.frame.DataFrame'>\n",
      "RangeIndex: 53756 entries, 1 to 53756\n",
      "Data columns (total 5 columns):\n",
      " #   Column                      Non-Null Count  Dtype \n",
      "---  ------                      --------------  ----- \n",
      " 0   YEAR                        53756 non-null  int32 \n",
      " 1   STATE                       53756 non-null  object\n",
      " 2   TYPE OF PRODUCER            53756 non-null  object\n",
      " 3   ENERGY SOURCE               53756 non-null  object\n",
      " 4   GENERATION (Megawatthours)  53756 non-null  int64 \n",
      "dtypes: int32(1), int64(1), object(3)\n",
      "memory usage: 1.8+ MB\n"
     ]
    },
    {
     "data": {
      "text/plain": [
       "0\n",
       "YEAR                           int32\n",
       "STATE                         object\n",
       "TYPE OF PRODUCER              object\n",
       "ENERGY SOURCE                 object\n",
       "GENERATION (Megawatthours)     int64\n",
       "dtype: object"
      ]
     },
     "execution_count": 7,
     "metadata": {},
     "output_type": "execute_result"
    }
   ],
   "source": [
    "df1['GENERATION (Megawatthours)'] = df1['GENERATION (Megawatthours)'].astype('int64')\n",
    "df1['YEAR'] = pd.to_datetime(df1['YEAR'],format='%Y').dt.year\n",
    "df1.info()\n",
    "df1.dtypes"
   ]
  },
  {
   "cell_type": "markdown",
   "id": "4ced76e5",
   "metadata": {},
   "source": [
    "Exploring and Cleaning the dataframe named --> 'df2'"
   ]
  },
  {
   "cell_type": "code",
   "execution_count": 8,
   "id": "8b11f413",
   "metadata": {},
   "outputs": [
    {
     "data": {
      "text/plain": [
       "['State', 'Registration Count']"
      ]
     },
     "execution_count": 8,
     "metadata": {},
     "output_type": "execute_result"
    }
   ],
   "source": [
    "df2 = pd.read_excel('States_Electric_Vehicle_Registrations_2018 (1).xlsx',header=None)\n",
    "df2 = df2.drop(0)\n",
    "df2 = df2.drop(1)\n",
    "df2.reset_index()\n",
    "df2.columns = df2.iloc[0]\n",
    "\n",
    "df2 = df2.reset_index()\n",
    "df2 = df2.drop(0)\n",
    "df2['Registration Count'].isnull().sum()\n",
    "df2['State'].isnull().sum()\n",
    "df2.isnull().sum()\n",
    "df2 = df2.dropna(axis=1)\n",
    "df2\n",
    "df2['Registration Count'] = df2['Registration Count'].astype(str)\n",
    "df2['Registration Count'] =  df2['Registration Count'].astype('int64')\n",
    "\n",
    "df2 = df2.drop('index',axis=1)\n",
    "df2.columns.to_list()"
   ]
  },
  {
   "cell_type": "markdown",
   "id": "3199f409",
   "metadata": {},
   "source": [
    "Merging(Combining) the data Frame 'df' and 'df1'"
   ]
  },
  {
   "cell_type": "code",
   "execution_count": 9,
   "id": "73657ccc",
   "metadata": {},
   "outputs": [
    {
     "data": {
      "text/html": [
       "<div>\n",
       "<style scoped>\n",
       "    .dataframe tbody tr th:only-of-type {\n",
       "        vertical-align: middle;\n",
       "    }\n",
       "\n",
       "    .dataframe tbody tr th {\n",
       "        vertical-align: top;\n",
       "    }\n",
       "\n",
       "    .dataframe thead th {\n",
       "        text-align: right;\n",
       "    }\n",
       "</style>\n",
       "<table border=\"1\" class=\"dataframe\">\n",
       "  <thead>\n",
       "    <tr style=\"text-align: right;\">\n",
       "      <th></th>\n",
       "      <th>state_code</th>\n",
       "      <th>state_name</th>\n",
       "      <th>YEAR</th>\n",
       "      <th>STATE</th>\n",
       "      <th>TYPE OF PRODUCER</th>\n",
       "      <th>ENERGY SOURCE</th>\n",
       "      <th>GENERATION (Megawatthours)</th>\n",
       "    </tr>\n",
       "  </thead>\n",
       "  <tbody>\n",
       "    <tr>\n",
       "      <th>0</th>\n",
       "      <td>AK</td>\n",
       "      <td>Alaska</td>\n",
       "      <td>1990</td>\n",
       "      <td>AK</td>\n",
       "      <td>Total Electric Power Industry</td>\n",
       "      <td>Total</td>\n",
       "      <td>5599506</td>\n",
       "    </tr>\n",
       "    <tr>\n",
       "      <th>1</th>\n",
       "      <td>AK</td>\n",
       "      <td>Alaska</td>\n",
       "      <td>1990</td>\n",
       "      <td>AK</td>\n",
       "      <td>Total Electric Power Industry</td>\n",
       "      <td>Coal</td>\n",
       "      <td>510573</td>\n",
       "    </tr>\n",
       "  </tbody>\n",
       "</table>\n",
       "</div>"
      ],
      "text/plain": [
       "  state_code state_name  YEAR STATE               TYPE OF PRODUCER  \\\n",
       "0         AK     Alaska  1990    AK  Total Electric Power Industry   \n",
       "1         AK     Alaska  1990    AK  Total Electric Power Industry   \n",
       "\n",
       "  ENERGY SOURCE  GENERATION (Megawatthours)  \n",
       "0         Total                     5599506  \n",
       "1          Coal                      510573  "
      ]
     },
     "execution_count": 9,
     "metadata": {},
     "output_type": "execute_result"
    }
   ],
   "source": [
    "# Outer join with different column names\n",
    "merged_df = pd.merge(df, df1, left_on='state_code', right_on='STATE', how='left')\n",
    "merged_df.head(2)"
   ]
  },
  {
   "cell_type": "markdown",
   "id": "e22e7e2d",
   "metadata": {},
   "source": [
    "Merging (Combining the dataframe) \"merged_df\" and \"df2\" "
   ]
  },
  {
   "cell_type": "code",
   "execution_count": 10,
   "id": "0f4f6ec9",
   "metadata": {},
   "outputs": [
    {
     "name": "stdout",
     "output_type": "stream",
     "text": [
      "<class 'pandas.core.frame.DataFrame'>\n",
      "RangeIndex: 51529 entries, 0 to 51528\n",
      "Data columns (total 9 columns):\n",
      " #   Column                      Non-Null Count  Dtype \n",
      "---  ------                      --------------  ----- \n",
      " 0   state_code                  51529 non-null  object\n",
      " 1   state_name                  51529 non-null  object\n",
      " 2   YEAR                        51529 non-null  int32 \n",
      " 3   STATE                       51529 non-null  object\n",
      " 4   TYPE OF PRODUCER            51529 non-null  object\n",
      " 5   ENERGY SOURCE               51529 non-null  object\n",
      " 6   GENERATION (Megawatthours)  51529 non-null  int64 \n",
      " 7   State                       51529 non-null  object\n",
      " 8   Registration Count          51529 non-null  int64 \n",
      "dtypes: int32(1), int64(2), object(6)\n",
      "memory usage: 3.3+ MB\n"
     ]
    }
   ],
   "source": [
    "\n",
    "merged_df1 = pd.merge(merged_df,df2, left_on='state_name', right_on='State',how='inner')\n",
    "merged_df1.info()\n"
   ]
  },
  {
   "cell_type": "markdown",
   "id": "62845fc3",
   "metadata": {},
   "source": [
    "Merging and Exploring Dataframes \"merged_df1\" and \"df3\""
   ]
  },
  {
   "cell_type": "code",
   "execution_count": 51,
   "id": "2d726c7f",
   "metadata": {},
   "outputs": [
    {
     "data": {
      "text/html": [
       "<div>\n",
       "<style scoped>\n",
       "    .dataframe tbody tr th:only-of-type {\n",
       "        vertical-align: middle;\n",
       "    }\n",
       "\n",
       "    .dataframe tbody tr th {\n",
       "        vertical-align: top;\n",
       "    }\n",
       "\n",
       "    .dataframe thead th {\n",
       "        text-align: right;\n",
       "    }\n",
       "</style>\n",
       "<table border=\"1\" class=\"dataframe\">\n",
       "  <thead>\n",
       "    <tr style=\"text-align: right;\">\n",
       "      <th></th>\n",
       "      <th>state_code</th>\n",
       "      <th>state_name</th>\n",
       "      <th>YEAR</th>\n",
       "      <th>STATE</th>\n",
       "      <th>TYPE OF PRODUCER</th>\n",
       "      <th>ENERGY SOURCE</th>\n",
       "      <th>GENERATION (Megawatthours)</th>\n",
       "      <th>State</th>\n",
       "      <th>Registration Count</th>\n",
       "      <th>STATE MOTOR-VEHICLE REGISTRATIONS - 2018  December 2019   STATE</th>\n",
       "      <th>...</th>\n",
       "      <th>TOTAL</th>\n",
       "      <th>TRUCKS PRIVATE ANDCOMMERCIAL</th>\n",
       "      <th>PUBLICLYOWNED (1)</th>\n",
       "      <th>TOTAL</th>\n",
       "      <th>MOTORCYCLES PRIVATE ANDCOMMERCIAL</th>\n",
       "      <th>PUBLICLYOWNED (1)</th>\n",
       "      <th>TOTAL</th>\n",
       "      <th>ALL MOTOR VEHICLES PRIVATE ANDCOMMERCIAL</th>\n",
       "      <th>PUBLICLYOWNED (1)</th>\n",
       "      <th>TABLE MV-1     TOTAL</th>\n",
       "    </tr>\n",
       "  </thead>\n",
       "  <tbody>\n",
       "    <tr>\n",
       "      <th>0</th>\n",
       "      <td>AK</td>\n",
       "      <td>Alaska</td>\n",
       "      <td>1990</td>\n",
       "      <td>AK</td>\n",
       "      <td>Total Electric Power Industry</td>\n",
       "      <td>Total</td>\n",
       "      <td>5599506</td>\n",
       "      <td>Alaska</td>\n",
       "      <td>530</td>\n",
       "      <td>NaN</td>\n",
       "      <td>...</td>\n",
       "      <td>NaN</td>\n",
       "      <td>NaN</td>\n",
       "      <td>NaN</td>\n",
       "      <td>NaN</td>\n",
       "      <td>NaN</td>\n",
       "      <td>NaN</td>\n",
       "      <td>NaN</td>\n",
       "      <td>NaN</td>\n",
       "      <td>NaN</td>\n",
       "      <td>0</td>\n",
       "    </tr>\n",
       "    <tr>\n",
       "      <th>1</th>\n",
       "      <td>AK</td>\n",
       "      <td>Alaska</td>\n",
       "      <td>1990</td>\n",
       "      <td>AK</td>\n",
       "      <td>Total Electric Power Industry</td>\n",
       "      <td>Coal</td>\n",
       "      <td>510573</td>\n",
       "      <td>Alaska</td>\n",
       "      <td>530</td>\n",
       "      <td>NaN</td>\n",
       "      <td>...</td>\n",
       "      <td>NaN</td>\n",
       "      <td>NaN</td>\n",
       "      <td>NaN</td>\n",
       "      <td>NaN</td>\n",
       "      <td>NaN</td>\n",
       "      <td>NaN</td>\n",
       "      <td>NaN</td>\n",
       "      <td>NaN</td>\n",
       "      <td>NaN</td>\n",
       "      <td>0</td>\n",
       "    </tr>\n",
       "    <tr>\n",
       "      <th>2</th>\n",
       "      <td>AK</td>\n",
       "      <td>Alaska</td>\n",
       "      <td>1990</td>\n",
       "      <td>AK</td>\n",
       "      <td>Total Electric Power Industry</td>\n",
       "      <td>Hydroelectric Conventional</td>\n",
       "      <td>974521</td>\n",
       "      <td>Alaska</td>\n",
       "      <td>530</td>\n",
       "      <td>NaN</td>\n",
       "      <td>...</td>\n",
       "      <td>NaN</td>\n",
       "      <td>NaN</td>\n",
       "      <td>NaN</td>\n",
       "      <td>NaN</td>\n",
       "      <td>NaN</td>\n",
       "      <td>NaN</td>\n",
       "      <td>NaN</td>\n",
       "      <td>NaN</td>\n",
       "      <td>NaN</td>\n",
       "      <td>0</td>\n",
       "    </tr>\n",
       "    <tr>\n",
       "      <th>3</th>\n",
       "      <td>AK</td>\n",
       "      <td>Alaska</td>\n",
       "      <td>1990</td>\n",
       "      <td>AK</td>\n",
       "      <td>Total Electric Power Industry</td>\n",
       "      <td>Natural Gas</td>\n",
       "      <td>3466261</td>\n",
       "      <td>Alaska</td>\n",
       "      <td>530</td>\n",
       "      <td>NaN</td>\n",
       "      <td>...</td>\n",
       "      <td>NaN</td>\n",
       "      <td>NaN</td>\n",
       "      <td>NaN</td>\n",
       "      <td>NaN</td>\n",
       "      <td>NaN</td>\n",
       "      <td>NaN</td>\n",
       "      <td>NaN</td>\n",
       "      <td>NaN</td>\n",
       "      <td>NaN</td>\n",
       "      <td>0</td>\n",
       "    </tr>\n",
       "    <tr>\n",
       "      <th>4</th>\n",
       "      <td>AK</td>\n",
       "      <td>Alaska</td>\n",
       "      <td>1990</td>\n",
       "      <td>AK</td>\n",
       "      <td>Total Electric Power Industry</td>\n",
       "      <td>Petroleum</td>\n",
       "      <td>497116</td>\n",
       "      <td>Alaska</td>\n",
       "      <td>530</td>\n",
       "      <td>NaN</td>\n",
       "      <td>...</td>\n",
       "      <td>NaN</td>\n",
       "      <td>NaN</td>\n",
       "      <td>NaN</td>\n",
       "      <td>NaN</td>\n",
       "      <td>NaN</td>\n",
       "      <td>NaN</td>\n",
       "      <td>NaN</td>\n",
       "      <td>NaN</td>\n",
       "      <td>NaN</td>\n",
       "      <td>0</td>\n",
       "    </tr>\n",
       "    <tr>\n",
       "      <th>5</th>\n",
       "      <td>AK</td>\n",
       "      <td>Alaska</td>\n",
       "      <td>1990</td>\n",
       "      <td>AK</td>\n",
       "      <td>Total Electric Power Industry</td>\n",
       "      <td>Wind</td>\n",
       "      <td>0</td>\n",
       "      <td>Alaska</td>\n",
       "      <td>530</td>\n",
       "      <td>NaN</td>\n",
       "      <td>...</td>\n",
       "      <td>NaN</td>\n",
       "      <td>NaN</td>\n",
       "      <td>NaN</td>\n",
       "      <td>NaN</td>\n",
       "      <td>NaN</td>\n",
       "      <td>NaN</td>\n",
       "      <td>NaN</td>\n",
       "      <td>NaN</td>\n",
       "      <td>NaN</td>\n",
       "      <td>0</td>\n",
       "    </tr>\n",
       "    <tr>\n",
       "      <th>6</th>\n",
       "      <td>AK</td>\n",
       "      <td>Alaska</td>\n",
       "      <td>1990</td>\n",
       "      <td>AK</td>\n",
       "      <td>Total Electric Power Industry</td>\n",
       "      <td>Wood and Wood Derived Fuels</td>\n",
       "      <td>151035</td>\n",
       "      <td>Alaska</td>\n",
       "      <td>530</td>\n",
       "      <td>NaN</td>\n",
       "      <td>...</td>\n",
       "      <td>NaN</td>\n",
       "      <td>NaN</td>\n",
       "      <td>NaN</td>\n",
       "      <td>NaN</td>\n",
       "      <td>NaN</td>\n",
       "      <td>NaN</td>\n",
       "      <td>NaN</td>\n",
       "      <td>NaN</td>\n",
       "      <td>NaN</td>\n",
       "      <td>0</td>\n",
       "    </tr>\n",
       "    <tr>\n",
       "      <th>7</th>\n",
       "      <td>AK</td>\n",
       "      <td>Alaska</td>\n",
       "      <td>1990</td>\n",
       "      <td>AK</td>\n",
       "      <td>Electric Generators, Electric Utilities</td>\n",
       "      <td>Total</td>\n",
       "      <td>4493024</td>\n",
       "      <td>Alaska</td>\n",
       "      <td>530</td>\n",
       "      <td>NaN</td>\n",
       "      <td>...</td>\n",
       "      <td>NaN</td>\n",
       "      <td>NaN</td>\n",
       "      <td>NaN</td>\n",
       "      <td>NaN</td>\n",
       "      <td>NaN</td>\n",
       "      <td>NaN</td>\n",
       "      <td>NaN</td>\n",
       "      <td>NaN</td>\n",
       "      <td>NaN</td>\n",
       "      <td>0</td>\n",
       "    </tr>\n",
       "    <tr>\n",
       "      <th>8</th>\n",
       "      <td>AK</td>\n",
       "      <td>Alaska</td>\n",
       "      <td>1990</td>\n",
       "      <td>AK</td>\n",
       "      <td>Electric Generators, Electric Utilities</td>\n",
       "      <td>Coal</td>\n",
       "      <td>311960</td>\n",
       "      <td>Alaska</td>\n",
       "      <td>530</td>\n",
       "      <td>NaN</td>\n",
       "      <td>...</td>\n",
       "      <td>NaN</td>\n",
       "      <td>NaN</td>\n",
       "      <td>NaN</td>\n",
       "      <td>NaN</td>\n",
       "      <td>NaN</td>\n",
       "      <td>NaN</td>\n",
       "      <td>NaN</td>\n",
       "      <td>NaN</td>\n",
       "      <td>NaN</td>\n",
       "      <td>0</td>\n",
       "    </tr>\n",
       "    <tr>\n",
       "      <th>9</th>\n",
       "      <td>AK</td>\n",
       "      <td>Alaska</td>\n",
       "      <td>1990</td>\n",
       "      <td>AK</td>\n",
       "      <td>Electric Generators, Electric Utilities</td>\n",
       "      <td>Hydroelectric Conventional</td>\n",
       "      <td>974521</td>\n",
       "      <td>Alaska</td>\n",
       "      <td>530</td>\n",
       "      <td>NaN</td>\n",
       "      <td>...</td>\n",
       "      <td>NaN</td>\n",
       "      <td>NaN</td>\n",
       "      <td>NaN</td>\n",
       "      <td>NaN</td>\n",
       "      <td>NaN</td>\n",
       "      <td>NaN</td>\n",
       "      <td>NaN</td>\n",
       "      <td>NaN</td>\n",
       "      <td>NaN</td>\n",
       "      <td>0</td>\n",
       "    </tr>\n",
       "  </tbody>\n",
       "</table>\n",
       "<p>10 rows × 25 columns</p>\n",
       "</div>"
      ],
      "text/plain": [
       "  state_code state_name  YEAR STATE                         TYPE OF PRODUCER  \\\n",
       "0         AK     Alaska  1990    AK            Total Electric Power Industry   \n",
       "1         AK     Alaska  1990    AK            Total Electric Power Industry   \n",
       "2         AK     Alaska  1990    AK            Total Electric Power Industry   \n",
       "3         AK     Alaska  1990    AK            Total Electric Power Industry   \n",
       "4         AK     Alaska  1990    AK            Total Electric Power Industry   \n",
       "5         AK     Alaska  1990    AK            Total Electric Power Industry   \n",
       "6         AK     Alaska  1990    AK            Total Electric Power Industry   \n",
       "7         AK     Alaska  1990    AK  Electric Generators, Electric Utilities   \n",
       "8         AK     Alaska  1990    AK  Electric Generators, Electric Utilities   \n",
       "9         AK     Alaska  1990    AK  Electric Generators, Electric Utilities   \n",
       "\n",
       "                 ENERGY SOURCE  GENERATION (Megawatthours)   State  \\\n",
       "0                        Total                     5599506  Alaska   \n",
       "1                         Coal                      510573  Alaska   \n",
       "2   Hydroelectric Conventional                      974521  Alaska   \n",
       "3                  Natural Gas                     3466261  Alaska   \n",
       "4                    Petroleum                      497116  Alaska   \n",
       "5                         Wind                           0  Alaska   \n",
       "6  Wood and Wood Derived Fuels                      151035  Alaska   \n",
       "7                        Total                     4493024  Alaska   \n",
       "8                         Coal                      311960  Alaska   \n",
       "9   Hydroelectric Conventional                      974521  Alaska   \n",
       "\n",
       "   Registration Count  \\\n",
       "0                 530   \n",
       "1                 530   \n",
       "2                 530   \n",
       "3                 530   \n",
       "4                 530   \n",
       "5                 530   \n",
       "6                 530   \n",
       "7                 530   \n",
       "8                 530   \n",
       "9                 530   \n",
       "\n",
       "  STATE MOTOR-VEHICLE REGISTRATIONS - 2018  December 2019   STATE  ...  TOTAL  \\\n",
       "0                                                NaN               ...    NaN   \n",
       "1                                                NaN               ...    NaN   \n",
       "2                                                NaN               ...    NaN   \n",
       "3                                                NaN               ...    NaN   \n",
       "4                                                NaN               ...    NaN   \n",
       "5                                                NaN               ...    NaN   \n",
       "6                                                NaN               ...    NaN   \n",
       "7                                                NaN               ...    NaN   \n",
       "8                                                NaN               ...    NaN   \n",
       "9                                                NaN               ...    NaN   \n",
       "\n",
       "   TRUCKS PRIVATE ANDCOMMERCIAL  PUBLICLYOWNED (1)  TOTAL  \\\n",
       "0                           NaN                NaN    NaN   \n",
       "1                           NaN                NaN    NaN   \n",
       "2                           NaN                NaN    NaN   \n",
       "3                           NaN                NaN    NaN   \n",
       "4                           NaN                NaN    NaN   \n",
       "5                           NaN                NaN    NaN   \n",
       "6                           NaN                NaN    NaN   \n",
       "7                           NaN                NaN    NaN   \n",
       "8                           NaN                NaN    NaN   \n",
       "9                           NaN                NaN    NaN   \n",
       "\n",
       "   MOTORCYCLES PRIVATE ANDCOMMERCIAL  PUBLICLYOWNED (1)  TOTAL  \\\n",
       "0                                NaN                NaN    NaN   \n",
       "1                                NaN                NaN    NaN   \n",
       "2                                NaN                NaN    NaN   \n",
       "3                                NaN                NaN    NaN   \n",
       "4                                NaN                NaN    NaN   \n",
       "5                                NaN                NaN    NaN   \n",
       "6                                NaN                NaN    NaN   \n",
       "7                                NaN                NaN    NaN   \n",
       "8                                NaN                NaN    NaN   \n",
       "9                                NaN                NaN    NaN   \n",
       "\n",
       "   ALL MOTOR VEHICLES PRIVATE ANDCOMMERCIAL  PUBLICLYOWNED (1)  \\\n",
       "0                                       NaN                NaN   \n",
       "1                                       NaN                NaN   \n",
       "2                                       NaN                NaN   \n",
       "3                                       NaN                NaN   \n",
       "4                                       NaN                NaN   \n",
       "5                                       NaN                NaN   \n",
       "6                                       NaN                NaN   \n",
       "7                                       NaN                NaN   \n",
       "8                                       NaN                NaN   \n",
       "9                                       NaN                NaN   \n",
       "\n",
       "   TABLE MV-1     TOTAL  \n",
       "0                     0  \n",
       "1                     0  \n",
       "2                     0  \n",
       "3                     0  \n",
       "4                     0  \n",
       "5                     0  \n",
       "6                     0  \n",
       "7                     0  \n",
       "8                     0  \n",
       "9                     0  \n",
       "\n",
       "[10 rows x 25 columns]"
      ]
     },
     "execution_count": 51,
     "metadata": {},
     "output_type": "execute_result"
    }
   ],
   "source": [
    "merged_df2 = pd.merge(merged_df1,df3, left_on='state_name',right_on=' STATE MOTOR-VEHICLE REGISTRATIONS - 2018  December 2019   STATE  ',how='left')\n",
    "merged_df2.sample()\n",
    "merged_df2.columns = merged_df2.columns.str.strip()\n",
    "merged_df2.columns.to_list\n",
    "merged_df2['TABLE MV-1     TOTAL'] = merged_df2['TABLE MV-1     TOTAL'].fillna(0)\n",
    "merged_df2['TABLE MV-1     TOTAL'].isnull().sum()\n",
    "merged_df2['TABLE MV-1     TOTAL'].unique()\n",
    "merged_df2['TABLE MV-1     TOTAL'] = merged_df2['TABLE MV-1     TOTAL'].astype('int64')\n",
    "merged_df2.head(10)"
   ]
  },
  {
   "cell_type": "markdown",
   "id": "81fcd9b4",
   "metadata": {},
   "source": [
    "3.CORRELATION ANALYSIS:\n",
    " TASK 3.1: ANALYZE THE CORRELATION BETWEEN\n",
    " ELECTRIC VEHICLE REGISTRATIONS A"
   ]
  },
  {
   "cell_type": "code",
   "execution_count": 62,
   "id": "fa461edb",
   "metadata": {},
   "outputs": [
    {
     "name": "stdout",
     "output_type": "stream",
     "text": [
      "Correlation Matrix:\n",
      "                             Registration Count  GENERATION (Megawatthours)\n",
      "Registration Count                    1.000000                    0.162206\n",
      "GENERATION (Megawatthours)            0.162206                    1.000000\n"
     ]
    },
    {
     "data": {
      "image/png": "[encoded data removed]",
      "text/plain": [
       "<Figure size 640x480 with 1 Axes>"
      ]
     },
     "metadata": {},
     "output_type": "display_data"
    }
   ],
   "source": [
    "import pandas as pd\n",
    "import seaborn as sns\n",
    "import matplotlib.pyplot as plt\n",
    "\n",
    "# Group by ENERGY SOURCE and sum the energy and EV registrations\n",
    "grouped = merged_df2.groupby(['ENERGY SOURCE','state_name']).agg({\n",
    "    'GENERATION (Megawatthours)': 'sum',\n",
    "    'Registration Count': 'sum'   # Average EV registrations for each energy source\n",
    "}).reset_index()\n",
    "\n",
    "# Calculate simple correlation matrix\n",
    "correlation = grouped[['Registration Count','GENERATION (Megawatthours)']].corr()\n",
    "\n",
    "# Show correlation value between generation and registration count\n",
    "print(\"Correlation Matrix:\\n\", correlation)\n",
    "\n",
    "# Visualize as a scatterplot\n",
    "sns.scatterplot(data=grouped,\n",
    "                x='GENERATION (Megawatthours)',\n",
    "                y='Registration Count',\n",
    "                hue='ENERGY SOURCE')\n",
    "plt.title(\"Correlation between Energy Generation and EV Registration\")\n",
    "plt.xlabel(\"Total Energy Generation (MWh)\")\n",
    "plt.ylabel(\"Average EV Registrations\")\n",
    "plt.xticks(rotation=45)\n",
    "plt.tight_layout()\n",
    "plt.show()\n"
   ]
  },
  {
   "cell_type": "code",
   "execution_count": 71,
   "id": "ef62fc45",
   "metadata": {},
   "outputs": [
    {
     "name": "stdout",
     "output_type": "stream",
     "text": [
      "Correlation Matrix:\n",
      "                             GENERATION (Megawatthours)  Registration Count\n",
      "GENERATION (Megawatthours)                    1.000000            0.101798\n",
      "Registration Count                            0.101798            1.000000\n"
     ]
    },
    {
     "data": {
      "text/html": [
       "<div>\n",
       "<style scoped>\n",
       "    .dataframe tbody tr th:only-of-type {\n",
       "        vertical-align: middle;\n",
       "    }\n",
       "\n",
       "    .dataframe tbody tr th {\n",
       "        vertical-align: top;\n",
       "    }\n",
       "\n",
       "    .dataframe thead th {\n",
       "        text-align: right;\n",
       "    }\n",
       "</style>\n",
       "<table border=\"1\" class=\"dataframe\">\n",
       "  <thead>\n",
       "    <tr style=\"text-align: right;\">\n",
       "      <th></th>\n",
       "      <th>GENERATION (Megawatthours)</th>\n",
       "      <th>Registration Count</th>\n",
       "    </tr>\n",
       "  </thead>\n",
       "  <tbody>\n",
       "    <tr>\n",
       "      <th>GENERATION (Megawatthours)</th>\n",
       "      <td>1.000000</td>\n",
       "      <td>0.101798</td>\n",
       "    </tr>\n",
       "    <tr>\n",
       "      <th>Registration Count</th>\n",
       "      <td>0.101798</td>\n",
       "      <td>1.000000</td>\n",
       "    </tr>\n",
       "  </tbody>\n",
       "</table>\n",
       "</div>"
      ],
      "text/plain": [
       "                            GENERATION (Megawatthours)  Registration Count\n",
       "GENERATION (Megawatthours)                    1.000000            0.101798\n",
       "Registration Count                            0.101798            1.000000"
      ]
     },
     "execution_count": 71,
     "metadata": {},
     "output_type": "execute_result"
    },
    {
     "data": {
      "image/png": "[encoded data removed]",
      "text/plain": [
       "<Figure size 640x480 with 2 Axes>"
      ]
     },
     "metadata": {},
     "output_type": "display_data"
    }
   ],
   "source": [
    "import pandas as pd\n",
    "import seaborn as sns\n",
    "import matplotlib.pyplot as plt\n",
    "\n",
    "# Group by ENERGY SOURCE\n",
    "grouped = merged_df2.groupby(['state_name','ENERGY SOURCE']).agg({\n",
    "    'GENERATION (Megawatthours)': 'sum',\n",
    "    'Registration Count': 'mean'\n",
    "}).reset_index()\n",
    "\n",
    "# Calculate correlation between the numeric columns only\n",
    "correlation = grouped[['GENERATION (Megawatthours)', 'Registration Count']].corr()\n",
    "\n",
    "# Print correlation matrix\n",
    "print(\"Correlation Matrix:\\n\", correlation)\n",
    "\n",
    "# Plot heatmap\n",
    "sns.heatmap(correlation, annot=True, cmap='YlGnBu', fmt=\".2f\")\n",
    "plt.title(\"Correlation Heatmap: Energy Generation vs EV Registration Count\")\n",
    "plt.tight_layout()\n",
    "#plt.show()\n",
    "grouped\n",
    "correlation.head(10)"
   ]
  },
  {
   "cell_type": "code",
   "execution_count": 13,
   "id": "be230d8b",
   "metadata": {},
   "outputs": [
    {
     "data": {
      "image/png": "[encoded data removed]",
      "text/plain": [
       "<Figure size 640x480 with 2 Axes>"
      ]
     },
     "metadata": {},
     "output_type": "display_data"
    }
   ],
   "source": [
    "merged_df2['ENERGY SOURCE_ENCODED'] = merged_df2['ENERGY SOURCE'].astype('category').cat.codes\n",
    "\n",
    "corr = merged_df2[['ENERGY SOURCE_ENCODED', 'TABLE MV-1     TOTAL']].corr()\n",
    "\n",
    "\n",
    "# heatmap\n",
    "sns.heatmap(corr, annot=True, cmap='YlGnBu')\n",
    "plt.title(\"Correlation Heatmap: ENERGY SOURCE vs V Registration\")\n",
    "plt.show()\n"
   ]
  },
  {
   "cell_type": "code",
   "execution_count": 14,
   "id": "ed2a4beb",
   "metadata": {},
   "outputs": [
    {
     "data": {
      "text/plain": [
       "['state_code',\n",
       " 'state_name',\n",
       " 'YEAR',\n",
       " 'STATE',\n",
       " 'TYPE OF PRODUCER',\n",
       " 'ENERGY SOURCE',\n",
       " 'GENERATION (Megawatthours)',\n",
       " 'State',\n",
       " 'Registration Count',\n",
       " 'STATE MOTOR-VEHICLE REGISTRATIONS - 2018  December 2019   STATE',\n",
       " '(Revised February 2021)  AUTOMOBILESPRIVATE ANDCOMMERCIAL(INCLUDING',\n",
       " 'PUBLICLYOWNED (1)',\n",
       " 'TOTAL',\n",
       " 'BUSES PRIVATE ANDCOMMERCIAL',\n",
       " 'PUBLICLYOWNED (1)',\n",
       " 'TOTAL',\n",
       " 'TRUCKS PRIVATE ANDCOMMERCIAL',\n",
       " 'PUBLICLYOWNED (1)',\n",
       " 'TOTAL',\n",
       " 'MOTORCYCLES PRIVATE ANDCOMMERCIAL',\n",
       " 'PUBLICLYOWNED (1)',\n",
       " 'TOTAL',\n",
       " 'ALL MOTOR VEHICLES PRIVATE ANDCOMMERCIAL',\n",
       " 'PUBLICLYOWNED (1)',\n",
       " 'TABLE MV-1     TOTAL',\n",
       " 'ENERGY SOURCE_ENCODED']"
      ]
     },
     "execution_count": 14,
     "metadata": {},
     "output_type": "execute_result"
    }
   ],
   "source": [
    "merged_df2.columns.to_list()\n",
    "\n"
   ]
  },
  {
   "cell_type": "markdown",
   "id": "97a2e496",
   "metadata": {},
   "source": [
    "Time Series Analysis:\n",
    "\n",
    " TASK 4.1: CONDUCT TIME SERIES ANALYSIS TO TRACK\n",
    " CHANGES IN EV REGISTRATIONS AND ENERGY PRODUCTION\n",
    " OVER TIME."
   ]
  },
  {
   "cell_type": "code",
   "execution_count": 15,
   "id": "1a1b0ae5",
   "metadata": {},
   "outputs": [
    {
     "data": {
      "image/png": "[encoded data removed]",
      "text/plain": [
       "<Figure size 1000x500 with 1 Axes>"
      ]
     },
     "metadata": {},
     "output_type": "display_data"
    }
   ],
   "source": [
    "time_trend = merged_df2.groupby(['YEAR'])['Registration Count'].sum()\n",
    "plt.figure(figsize=(10, 5))\n",
    "plt.plot(time_trend, marker='p', linestyle='-', color='purple')\n",
    "plt.xlabel('Year of Registration')\n",
    "plt.ylabel('Total Registration in Crore')\n",
    "\n",
    "plt.show()"
   ]
  },
  {
   "cell_type": "markdown",
   "id": "e3069780",
   "metadata": {},
   "source": []
  },
  {
   "cell_type": "code",
   "execution_count": 16,
   "id": "33a2577a",
   "metadata": {},
   "outputs": [
    {
     "data": {
      "image/png": "[encoded data removed]",
      "text/plain": [
       "<Figure size 1000x500 with 1 Axes>"
      ]
     },
     "metadata": {},
     "output_type": "display_data"
    }
   ],
   "source": [
    "time_trend1 = merged_df2.groupby(['YEAR'])['GENERATION (Megawatthours)'].mean()\n",
    "plt.figure(figsize=(10, 5))\n",
    "plt.plot(time_trend, marker='p', linestyle='-', color='green')\n",
    "plt.xlabel('Power Generation Year')\n",
    "plt.ylabel('Power Production')\n",
    "import matplotlib.ticker as mtick\n",
    "plt.gca().yaxis.set_major_formatter(mtick.FuncFormatter(lambda x, _: f'{int(x):,}'))\n",
    "\n"
   ]
  },
  {
   "cell_type": "markdown",
   "id": "190e6fe0",
   "metadata": {},
   "source": [
    "TASK 4.2: IDENTIFY ANY SEASONAL TRENDS OR LONG\n",
    "TERM SHIFTS IN THE DATA.\n",
    "\n"
   ]
  },
  {
   "cell_type": "markdown",
   "id": "c7e11643",
   "metadata": {},
   "source": [
    "TASK 5.1: MAP THE DISTRIBUTION OF EV REGISTRATIONS\n",
    " ACROSS STATES USING GEOSPATIAL VISUALIZATION\n",
    " TECHNIQUES.\n",
    " TASK 5.2: COMPARE THESE DISTRIBUTIONS WITH THE\n",
    " LOCATIONS OF MAJOR RENEWABLE ENERGY PROJECTS."
   ]
  },
  {
   "cell_type": "code",
   "execution_count": 17,
   "id": "626bf5d5",
   "metadata": {},
   "outputs": [
    {
     "data": {
      "text/html": [
       "<div>\n",
       "<style scoped>\n",
       "    .dataframe tbody tr th:only-of-type {\n",
       "        vertical-align: middle;\n",
       "    }\n",
       "\n",
       "    .dataframe tbody tr th {\n",
       "        vertical-align: top;\n",
       "    }\n",
       "\n",
       "    .dataframe thead th {\n",
       "        text-align: right;\n",
       "    }\n",
       "</style>\n",
       "<table border=\"1\" class=\"dataframe\">\n",
       "  <thead>\n",
       "    <tr style=\"text-align: right;\">\n",
       "      <th></th>\n",
       "      <th>state_code</th>\n",
       "      <th>state_name</th>\n",
       "      <th>YEAR</th>\n",
       "      <th>STATE</th>\n",
       "      <th>TYPE OF PRODUCER</th>\n",
       "      <th>ENERGY SOURCE</th>\n",
       "      <th>GENERATION (Megawatthours)</th>\n",
       "      <th>State</th>\n",
       "      <th>Registration Count</th>\n",
       "      <th>STATE MOTOR-VEHICLE REGISTRATIONS - 2018  December 2019   STATE</th>\n",
       "      <th>...</th>\n",
       "      <th>TRUCKS PRIVATE ANDCOMMERCIAL</th>\n",
       "      <th>PUBLICLYOWNED (1)</th>\n",
       "      <th>TOTAL</th>\n",
       "      <th>MOTORCYCLES PRIVATE ANDCOMMERCIAL</th>\n",
       "      <th>PUBLICLYOWNED (1)</th>\n",
       "      <th>TOTAL</th>\n",
       "      <th>ALL MOTOR VEHICLES PRIVATE ANDCOMMERCIAL</th>\n",
       "      <th>PUBLICLYOWNED (1)</th>\n",
       "      <th>TABLE MV-1     TOTAL</th>\n",
       "      <th>ENERGY SOURCE_ENCODED</th>\n",
       "    </tr>\n",
       "  </thead>\n",
       "  <tbody>\n",
       "    <tr>\n",
       "      <th>0</th>\n",
       "      <td>AK</td>\n",
       "      <td>Alaska</td>\n",
       "      <td>1990</td>\n",
       "      <td>AK</td>\n",
       "      <td>Total Electric Power Industry</td>\n",
       "      <td>Total</td>\n",
       "      <td>5599506</td>\n",
       "      <td>Alaska</td>\n",
       "      <td>530</td>\n",
       "      <td>NaN</td>\n",
       "      <td>...</td>\n",
       "      <td>NaN</td>\n",
       "      <td>NaN</td>\n",
       "      <td>NaN</td>\n",
       "      <td>NaN</td>\n",
       "      <td>NaN</td>\n",
       "      <td>NaN</td>\n",
       "      <td>NaN</td>\n",
       "      <td>NaN</td>\n",
       "      <td>0</td>\n",
       "      <td>11</td>\n",
       "    </tr>\n",
       "    <tr>\n",
       "      <th>1</th>\n",
       "      <td>AK</td>\n",
       "      <td>Alaska</td>\n",
       "      <td>1990</td>\n",
       "      <td>AK</td>\n",
       "      <td>Total Electric Power Industry</td>\n",
       "      <td>Coal</td>\n",
       "      <td>510573</td>\n",
       "      <td>Alaska</td>\n",
       "      <td>530</td>\n",
       "      <td>NaN</td>\n",
       "      <td>...</td>\n",
       "      <td>NaN</td>\n",
       "      <td>NaN</td>\n",
       "      <td>NaN</td>\n",
       "      <td>NaN</td>\n",
       "      <td>NaN</td>\n",
       "      <td>NaN</td>\n",
       "      <td>NaN</td>\n",
       "      <td>NaN</td>\n",
       "      <td>0</td>\n",
       "      <td>0</td>\n",
       "    </tr>\n",
       "    <tr>\n",
       "      <th>2</th>\n",
       "      <td>AK</td>\n",
       "      <td>Alaska</td>\n",
       "      <td>1990</td>\n",
       "      <td>AK</td>\n",
       "      <td>Total Electric Power Industry</td>\n",
       "      <td>Hydroelectric Conventional</td>\n",
       "      <td>974521</td>\n",
       "      <td>Alaska</td>\n",
       "      <td>530</td>\n",
       "      <td>NaN</td>\n",
       "      <td>...</td>\n",
       "      <td>NaN</td>\n",
       "      <td>NaN</td>\n",
       "      <td>NaN</td>\n",
       "      <td>NaN</td>\n",
       "      <td>NaN</td>\n",
       "      <td>NaN</td>\n",
       "      <td>NaN</td>\n",
       "      <td>NaN</td>\n",
       "      <td>0</td>\n",
       "      <td>2</td>\n",
       "    </tr>\n",
       "    <tr>\n",
       "      <th>3</th>\n",
       "      <td>AK</td>\n",
       "      <td>Alaska</td>\n",
       "      <td>1990</td>\n",
       "      <td>AK</td>\n",
       "      <td>Total Electric Power Industry</td>\n",
       "      <td>Natural Gas</td>\n",
       "      <td>3466261</td>\n",
       "      <td>Alaska</td>\n",
       "      <td>530</td>\n",
       "      <td>NaN</td>\n",
       "      <td>...</td>\n",
       "      <td>NaN</td>\n",
       "      <td>NaN</td>\n",
       "      <td>NaN</td>\n",
       "      <td>NaN</td>\n",
       "      <td>NaN</td>\n",
       "      <td>NaN</td>\n",
       "      <td>NaN</td>\n",
       "      <td>NaN</td>\n",
       "      <td>0</td>\n",
       "      <td>3</td>\n",
       "    </tr>\n",
       "    <tr>\n",
       "      <th>4</th>\n",
       "      <td>AK</td>\n",
       "      <td>Alaska</td>\n",
       "      <td>1990</td>\n",
       "      <td>AK</td>\n",
       "      <td>Total Electric Power Industry</td>\n",
       "      <td>Petroleum</td>\n",
       "      <td>497116</td>\n",
       "      <td>Alaska</td>\n",
       "      <td>530</td>\n",
       "      <td>NaN</td>\n",
       "      <td>...</td>\n",
       "      <td>NaN</td>\n",
       "      <td>NaN</td>\n",
       "      <td>NaN</td>\n",
       "      <td>NaN</td>\n",
       "      <td>NaN</td>\n",
       "      <td>NaN</td>\n",
       "      <td>NaN</td>\n",
       "      <td>NaN</td>\n",
       "      <td>0</td>\n",
       "      <td>8</td>\n",
       "    </tr>\n",
       "    <tr>\n",
       "      <th>...</th>\n",
       "      <td>...</td>\n",
       "      <td>...</td>\n",
       "      <td>...</td>\n",
       "      <td>...</td>\n",
       "      <td>...</td>\n",
       "      <td>...</td>\n",
       "      <td>...</td>\n",
       "      <td>...</td>\n",
       "      <td>...</td>\n",
       "      <td>...</td>\n",
       "      <td>...</td>\n",
       "      <td>...</td>\n",
       "      <td>...</td>\n",
       "      <td>...</td>\n",
       "      <td>...</td>\n",
       "      <td>...</td>\n",
       "      <td>...</td>\n",
       "      <td>...</td>\n",
       "      <td>...</td>\n",
       "      <td>...</td>\n",
       "      <td>...</td>\n",
       "    </tr>\n",
       "    <tr>\n",
       "      <th>51524</th>\n",
       "      <td>WY</td>\n",
       "      <td>Wyoming</td>\n",
       "      <td>2019</td>\n",
       "      <td>WY</td>\n",
       "      <td>Electric Generators, Electric Utilities</td>\n",
       "      <td>Coal</td>\n",
       "      <td>34313690</td>\n",
       "      <td>Wyoming</td>\n",
       "      <td>170</td>\n",
       "      <td>NaN</td>\n",
       "      <td>...</td>\n",
       "      <td>NaN</td>\n",
       "      <td>NaN</td>\n",
       "      <td>NaN</td>\n",
       "      <td>NaN</td>\n",
       "      <td>NaN</td>\n",
       "      <td>NaN</td>\n",
       "      <td>NaN</td>\n",
       "      <td>NaN</td>\n",
       "      <td>0</td>\n",
       "      <td>0</td>\n",
       "    </tr>\n",
       "    <tr>\n",
       "      <th>51525</th>\n",
       "      <td>WY</td>\n",
       "      <td>Wyoming</td>\n",
       "      <td>2019</td>\n",
       "      <td>WY</td>\n",
       "      <td>Electric Generators, Electric Utilities</td>\n",
       "      <td>Hydroelectric Conventional</td>\n",
       "      <td>984521</td>\n",
       "      <td>Wyoming</td>\n",
       "      <td>170</td>\n",
       "      <td>NaN</td>\n",
       "      <td>...</td>\n",
       "      <td>NaN</td>\n",
       "      <td>NaN</td>\n",
       "      <td>NaN</td>\n",
       "      <td>NaN</td>\n",
       "      <td>NaN</td>\n",
       "      <td>NaN</td>\n",
       "      <td>NaN</td>\n",
       "      <td>NaN</td>\n",
       "      <td>0</td>\n",
       "      <td>2</td>\n",
       "    </tr>\n",
       "    <tr>\n",
       "      <th>51526</th>\n",
       "      <td>WY</td>\n",
       "      <td>Wyoming</td>\n",
       "      <td>2019</td>\n",
       "      <td>WY</td>\n",
       "      <td>Electric Generators, Electric Utilities</td>\n",
       "      <td>Natural Gas</td>\n",
       "      <td>411640</td>\n",
       "      <td>Wyoming</td>\n",
       "      <td>170</td>\n",
       "      <td>NaN</td>\n",
       "      <td>...</td>\n",
       "      <td>NaN</td>\n",
       "      <td>NaN</td>\n",
       "      <td>NaN</td>\n",
       "      <td>NaN</td>\n",
       "      <td>NaN</td>\n",
       "      <td>NaN</td>\n",
       "      <td>NaN</td>\n",
       "      <td>NaN</td>\n",
       "      <td>0</td>\n",
       "      <td>3</td>\n",
       "    </tr>\n",
       "    <tr>\n",
       "      <th>51527</th>\n",
       "      <td>WY</td>\n",
       "      <td>Wyoming</td>\n",
       "      <td>2019</td>\n",
       "      <td>WY</td>\n",
       "      <td>Electric Generators, Electric Utilities</td>\n",
       "      <td>Petroleum</td>\n",
       "      <td>43547</td>\n",
       "      <td>Wyoming</td>\n",
       "      <td>170</td>\n",
       "      <td>NaN</td>\n",
       "      <td>...</td>\n",
       "      <td>NaN</td>\n",
       "      <td>NaN</td>\n",
       "      <td>NaN</td>\n",
       "      <td>NaN</td>\n",
       "      <td>NaN</td>\n",
       "      <td>NaN</td>\n",
       "      <td>NaN</td>\n",
       "      <td>NaN</td>\n",
       "      <td>0</td>\n",
       "      <td>8</td>\n",
       "    </tr>\n",
       "    <tr>\n",
       "      <th>51528</th>\n",
       "      <td>WY</td>\n",
       "      <td>Wyoming</td>\n",
       "      <td>2019</td>\n",
       "      <td>WY</td>\n",
       "      <td>Electric Generators, Electric Utilities</td>\n",
       "      <td>Wind</td>\n",
       "      <td>1853341</td>\n",
       "      <td>Wyoming</td>\n",
       "      <td>170</td>\n",
       "      <td>NaN</td>\n",
       "      <td>...</td>\n",
       "      <td>NaN</td>\n",
       "      <td>NaN</td>\n",
       "      <td>NaN</td>\n",
       "      <td>NaN</td>\n",
       "      <td>NaN</td>\n",
       "      <td>NaN</td>\n",
       "      <td>NaN</td>\n",
       "      <td>NaN</td>\n",
       "      <td>0</td>\n",
       "      <td>12</td>\n",
       "    </tr>\n",
       "  </tbody>\n",
       "</table>\n",
       "<p>51529 rows × 26 columns</p>\n",
       "</div>"
      ],
      "text/plain": [
       "      state_code state_name  YEAR STATE  \\\n",
       "0             AK     Alaska  1990    AK   \n",
       "1             AK     Alaska  1990    AK   \n",
       "2             AK     Alaska  1990    AK   \n",
       "3             AK     Alaska  1990    AK   \n",
       "4             AK     Alaska  1990    AK   \n",
       "...          ...        ...   ...   ...   \n",
       "51524         WY    Wyoming  2019    WY   \n",
       "51525         WY    Wyoming  2019    WY   \n",
       "51526         WY    Wyoming  2019    WY   \n",
       "51527         WY    Wyoming  2019    WY   \n",
       "51528         WY    Wyoming  2019    WY   \n",
       "\n",
       "                              TYPE OF PRODUCER               ENERGY SOURCE  \\\n",
       "0                Total Electric Power Industry                       Total   \n",
       "1                Total Electric Power Industry                        Coal   \n",
       "2                Total Electric Power Industry  Hydroelectric Conventional   \n",
       "3                Total Electric Power Industry                 Natural Gas   \n",
       "4                Total Electric Power Industry                   Petroleum   \n",
       "...                                        ...                         ...   \n",
       "51524  Electric Generators, Electric Utilities                        Coal   \n",
       "51525  Electric Generators, Electric Utilities  Hydroelectric Conventional   \n",
       "51526  Electric Generators, Electric Utilities                 Natural Gas   \n",
       "51527  Electric Generators, Electric Utilities                   Petroleum   \n",
       "51528  Electric Generators, Electric Utilities                        Wind   \n",
       "\n",
       "       GENERATION (Megawatthours)    State  Registration Count  \\\n",
       "0                         5599506   Alaska                 530   \n",
       "1                          510573   Alaska                 530   \n",
       "2                          974521   Alaska                 530   \n",
       "3                         3466261   Alaska                 530   \n",
       "4                          497116   Alaska                 530   \n",
       "...                           ...      ...                 ...   \n",
       "51524                    34313690  Wyoming                 170   \n",
       "51525                      984521  Wyoming                 170   \n",
       "51526                      411640  Wyoming                 170   \n",
       "51527                       43547  Wyoming                 170   \n",
       "51528                     1853341  Wyoming                 170   \n",
       "\n",
       "      STATE MOTOR-VEHICLE REGISTRATIONS - 2018  December 2019   STATE  ...  \\\n",
       "0                                                    NaN               ...   \n",
       "1                                                    NaN               ...   \n",
       "2                                                    NaN               ...   \n",
       "3                                                    NaN               ...   \n",
       "4                                                    NaN               ...   \n",
       "...                                                  ...               ...   \n",
       "51524                                                NaN               ...   \n",
       "51525                                                NaN               ...   \n",
       "51526                                                NaN               ...   \n",
       "51527                                                NaN               ...   \n",
       "51528                                                NaN               ...   \n",
       "\n",
       "       TRUCKS PRIVATE ANDCOMMERCIAL  PUBLICLYOWNED (1)  TOTAL  \\\n",
       "0                               NaN                NaN    NaN   \n",
       "1                               NaN                NaN    NaN   \n",
       "2                               NaN                NaN    NaN   \n",
       "3                               NaN                NaN    NaN   \n",
       "4                               NaN                NaN    NaN   \n",
       "...                             ...                ...    ...   \n",
       "51524                           NaN                NaN    NaN   \n",
       "51525                           NaN                NaN    NaN   \n",
       "51526                           NaN                NaN    NaN   \n",
       "51527                           NaN                NaN    NaN   \n",
       "51528                           NaN                NaN    NaN   \n",
       "\n",
       "       MOTORCYCLES PRIVATE ANDCOMMERCIAL  PUBLICLYOWNED (1)  TOTAL  \\\n",
       "0                                    NaN                NaN    NaN   \n",
       "1                                    NaN                NaN    NaN   \n",
       "2                                    NaN                NaN    NaN   \n",
       "3                                    NaN                NaN    NaN   \n",
       "4                                    NaN                NaN    NaN   \n",
       "...                                  ...                ...    ...   \n",
       "51524                                NaN                NaN    NaN   \n",
       "51525                                NaN                NaN    NaN   \n",
       "51526                                NaN                NaN    NaN   \n",
       "51527                                NaN                NaN    NaN   \n",
       "51528                                NaN                NaN    NaN   \n",
       "\n",
       "       ALL MOTOR VEHICLES PRIVATE ANDCOMMERCIAL  PUBLICLYOWNED (1)  \\\n",
       "0                                           NaN                NaN   \n",
       "1                                           NaN                NaN   \n",
       "2                                           NaN                NaN   \n",
       "3                                           NaN                NaN   \n",
       "4                                           NaN                NaN   \n",
       "...                                         ...                ...   \n",
       "51524                                       NaN                NaN   \n",
       "51525                                       NaN                NaN   \n",
       "51526                                       NaN                NaN   \n",
       "51527                                       NaN                NaN   \n",
       "51528                                       NaN                NaN   \n",
       "\n",
       "       TABLE MV-1     TOTAL  ENERGY SOURCE_ENCODED  \n",
       "0                         0                     11  \n",
       "1                         0                      0  \n",
       "2                         0                      2  \n",
       "3                         0                      3  \n",
       "4                         0                      8  \n",
       "...                     ...                    ...  \n",
       "51524                     0                      0  \n",
       "51525                     0                      2  \n",
       "51526                     0                      3  \n",
       "51527                     0                      8  \n",
       "51528                     0                     12  \n",
       "\n",
       "[51529 rows x 26 columns]"
      ]
     },
     "execution_count": 17,
     "metadata": {},
     "output_type": "execute_result"
    }
   ],
   "source": [
    "merged_df2.columns.to_list()\n",
    "#grp = merged_df2.groupby('state_name',as_index=False)['Registration Count'].sum()\n",
    "merged_df2"
   ]
  },
  {
   "cell_type": "code",
   "execution_count": 18,
   "id": "42a19f98",
   "metadata": {},
   "outputs": [
    {
     "data": {
      "application/vnd.plotly.v1+json": {
       "config": {
        "plotlyServerURL": "https://plot.ly"
       },
       "data": [
        {
         "coloraxis": "coloraxis",
         "geo": "geo",
         "hovertemplate": "State Code=%{location}<br>Registration Count=%{z}<extra></extra>",
         "locationmode": "USA-states",
         "locations": [
          "AL",
          "AK",
          "AZ",
          "AR",
          "CA",
          "CO",
          "CT",
          "DE",
          null,
          "FL",
          "GA",
          "HI",
          "ID",
          "IL",
          "IN",
          "IA",
          "KS",
          "KY",
          "LA",
          "ME",
          "MD",
          "MA",
          "MI",
          "MN",
          "MS",
          "MO",
          "MT",
          "NE",
          "NV",
          "NH",
          "NJ",
          "NM",
          "NY",
          "NC",
          "ND",
          "OH",
          "OK",
          "OR",
          "PA",
          "RI",
          "SC",
          "SD",
          "TN",
          "TX",
          null,
          "UT",
          "VT",
          "VA",
          "WA",
          "WV",
          "WI",
          "WY"
         ],
         "name": "",
         "type": "choropleth",
         "z": {
          "bdata": "qgUAABICAACYOgAACAIAACDrAwC0LQAAYhEAANACAADKAwAAcGIAAMQ7AAC+GQAAOAQAAHAwAADWCwAAQgQAAEoGAADYBAAAVgQAAO4CAACQHwAAICYAAHIQAACEEgAAhgEAAHoNAAD0AQAAUgMAAMoSAABgBAAARC8AAOwEAADYQAAAmBwAAKoAAABuGQAA2gwAAHAwAAA2HwAAWAIAAJ4HAAAEAQAAjA8AAEhYAAB6SwgAZBQAACQEAACyIAAA8G4AAOYAAABgDgAAqgAAAA==",
          "dtype": "i4"
         }
        }
       ],
       "layout": {
        "coloraxis": {
         "colorbar": {
          "title": {
           "text": "Registration Count"
          }
         },
         "colorscale": [
          [
           0,
           "rgb(255,245,240)"
          ],
          [
           0.125,
           "rgb(254,224,210)"
          ],
          [
           0.25,
           "rgb(252,187,161)"
          ],
          [
           0.375,
           "rgb(252,146,114)"
          ],
          [
           0.5,
           "rgb(251,106,74)"
          ],
          [
           0.625,
           "rgb(239,59,44)"
          ],
          [
           0.75,
           "rgb(203,24,29)"
          ],
          [
           0.875,
           "rgb(165,15,21)"
          ],
          [
           1,
           "rgb(103,0,13)"
          ]
         ]
        },
        "geo": {
         "center": {},
         "domain": {
          "x": [
           0,
           1
          ],
          "y": [
           0,
           1
          ]
         },
         "scope": "usa"
        },
        "legend": {
         "tracegroupgap": 0
        },
        "template": {
         "data": {
          "bar": [
           {
            "error_x": {
             "color": "#2a3f5f"
            },
            "error_y": {
             "color": "#2a3f5f"
            },
            "marker": {
             "line": {
              "color": "#E5ECF6",
              "width": 0.5
             },
             "pattern": {
              "fillmode": "overlay",
              "size": 10,
              "solidity": 0.2
             }
            },
            "type": "bar"
           }
          ],
          "barpolar": [
           {
            "marker": {
             "line": {
              "color": "#E5ECF6",
              "width": 0.5
             },
             "pattern": {
              "fillmode": "overlay",
              "size": 10,
              "solidity": 0.2
             }
            },
            "type": "barpolar"
           }
          ],
          "carpet": [
           {
            "aaxis": {
             "endlinecolor": "#2a3f5f",
             "gridcolor": "white",
             "linecolor": "white",
             "minorgridcolor": "white",
             "startlinecolor": "#2a3f5f"
            },
            "baxis": {
             "endlinecolor": "#2a3f5f",
             "gridcolor": "white",
             "linecolor": "white",
             "minorgridcolor": "white",
             "startlinecolor": "#2a3f5f"
            },
            "type": "carpet"
           }
          ],
          "choropleth": [
           {
            "colorbar": {
             "outlinewidth": 0,
             "ticks": ""
            },
            "type": "choropleth"
           }
          ],
          "contour": [
           {
            "colorbar": {
             "outlinewidth": 0,
             "ticks": ""
            },
            "colorscale": [
             [
              0,
              "#0d0887"
             ],
             [
              0.1111111111111111,
              "#46039f"
             ],
             [
              0.2222222222222222,
              "#7201a8"
             ],
             [
              0.3333333333333333,
              "#9c179e"
             ],
             [
              0.4444444444444444,
              "#bd3786"
             ],
             [
              0.5555555555555556,
              "#d8576b"
             ],
             [
              0.6666666666666666,
              "#ed7953"
             ],
             [
              0.7777777777777778,
              "#fb9f3a"
             ],
             [
              0.8888888888888888,
              "#fdca26"
             ],
             [
              1,
              "#f0f921"
             ]
            ],
            "type": "contour"
           }
          ],
          "contourcarpet": [
           {
            "colorbar": {
             "outlinewidth": 0,
             "ticks": ""
            },
            "type": "contourcarpet"
           }
          ],
          "heatmap": [
           {
            "colorbar": {
             "outlinewidth": 0,
             "ticks": ""
            },
            "colorscale": [
             [
              0,
              "#0d0887"
             ],
             [
              0.1111111111111111,
              "#46039f"
             ],
             [
              0.2222222222222222,
              "#7201a8"
             ],
             [
              0.3333333333333333,
              "#9c179e"
             ],
             [
              0.4444444444444444,
              "#bd3786"
             ],
             [
              0.5555555555555556,
              "#d8576b"
             ],
             [
              0.6666666666666666,
              "#ed7953"
             ],
             [
              0.7777777777777778,
              "#fb9f3a"
             ],
             [
              0.8888888888888888,
              "#fdca26"
             ],
             [
              1,
              "#f0f921"
             ]
            ],
            "type": "heatmap"
           }
          ],
          "histogram": [
           {
            "marker": {
             "pattern": {
              "fillmode": "overlay",
              "size": 10,
              "solidity": 0.2
             }
            },
            "type": "histogram"
           }
          ],
          "histogram2d": [
           {
            "colorbar": {
             "outlinewidth": 0,
             "ticks": ""
            },
            "colorscale": [
             [
              0,
              "#0d0887"
             ],
             [
              0.1111111111111111,
              "#46039f"
             ],
             [
              0.2222222222222222,
              "#7201a8"
             ],
             [
              0.3333333333333333,
              "#9c179e"
             ],
             [
              0.4444444444444444,
              "#bd3786"
             ],
             [
              0.5555555555555556,
              "#d8576b"
             ],
             [
              0.6666666666666666,
              "#ed7953"
             ],
             [
              0.7777777777777778,
              "#fb9f3a"
             ],
             [
              0.8888888888888888,
              "#fdca26"
             ],
             [
              1,
              "#f0f921"
             ]
            ],
            "type": "histogram2d"
           }
          ],
          "histogram2dcontour": [
           {
            "colorbar": {
             "outlinewidth": 0,
             "ticks": ""
            },
            "colorscale": [
             [
              0,
              "#0d0887"
             ],
             [
              0.1111111111111111,
              "#46039f"
             ],
             [
              0.2222222222222222,
              "#7201a8"
             ],
             [
              0.3333333333333333,
              "#9c179e"
             ],
             [
              0.4444444444444444,
              "#bd3786"
             ],
             [
              0.5555555555555556,
              "#d8576b"
             ],
             [
              0.6666666666666666,
              "#ed7953"
             ],
             [
              0.7777777777777778,
              "#fb9f3a"
             ],
             [
              0.8888888888888888,
              "#fdca26"
             ],
             [
              1,
              "#f0f921"
             ]
            ],
            "type": "histogram2dcontour"
           }
          ],
          "mesh3d": [
           {
            "colorbar": {
             "outlinewidth": 0,
             "ticks": ""
            },
            "type": "mesh3d"
           }
          ],
          "parcoords": [
           {
            "line": {
             "colorbar": {
              "outlinewidth": 0,
              "ticks": ""
             }
            },
            "type": "parcoords"
           }
          ],
          "pie": [
           {
            "automargin": true,
            "type": "pie"
           }
          ],
          "scatter": [
           {
            "fillpattern": {
             "fillmode": "overlay",
             "size": 10,
             "solidity": 0.2
            },
            "type": "scatter"
           }
          ],
          "scatter3d": [
           {
            "line": {
             "colorbar": {
              "outlinewidth": 0,
              "ticks": ""
             }
            },
            "marker": {
             "colorbar": {
              "outlinewidth": 0,
              "ticks": ""
             }
            },
            "type": "scatter3d"
           }
          ],
          "scattercarpet": [
           {
            "marker": {
             "colorbar": {
              "outlinewidth": 0,
              "ticks": ""
             }
            },
            "type": "scattercarpet"
           }
          ],
          "scattergeo": [
           {
            "marker": {
             "colorbar": {
              "outlinewidth": 0,
              "ticks": ""
             }
            },
            "type": "scattergeo"
           }
          ],
          "scattergl": [
           {
            "marker": {
             "colorbar": {
              "outlinewidth": 0,
              "ticks": ""
             }
            },
            "type": "scattergl"
           }
          ],
          "scattermap": [
           {
            "marker": {
             "colorbar": {
              "outlinewidth": 0,
              "ticks": ""
             }
            },
            "type": "scattermap"
           }
          ],
          "scattermapbox": [
           {
            "marker": {
             "colorbar": {
              "outlinewidth": 0,
              "ticks": ""
             }
            },
            "type": "scattermapbox"
           }
          ],
          "scatterpolar": [
           {
            "marker": {
             "colorbar": {
              "outlinewidth": 0,
              "ticks": ""
             }
            },
            "type": "scatterpolar"
           }
          ],
          "scatterpolargl": [
           {
            "marker": {
             "colorbar": {
              "outlinewidth": 0,
              "ticks": ""
             }
            },
            "type": "scatterpolargl"
           }
          ],
          "scatterternary": [
           {
            "marker": {
             "colorbar": {
              "outlinewidth": 0,
              "ticks": ""
             }
            },
            "type": "scatterternary"
           }
          ],
          "surface": [
           {
            "colorbar": {
             "outlinewidth": 0,
             "ticks": ""
            },
            "colorscale": [
             [
              0,
              "#0d0887"
             ],
             [
              0.1111111111111111,
              "#46039f"
             ],
             [
              0.2222222222222222,
              "#7201a8"
             ],
             [
              0.3333333333333333,
              "#9c179e"
             ],
             [
              0.4444444444444444,
              "#bd3786"
             ],
             [
              0.5555555555555556,
              "#d8576b"
             ],
             [
              0.6666666666666666,
              "#ed7953"
             ],
             [
              0.7777777777777778,
              "#fb9f3a"
             ],
             [
              0.8888888888888888,
              "#fdca26"
             ],
             [
              1,
              "#f0f921"
             ]
            ],
            "type": "surface"
           }
          ],
          "table": [
           {
            "cells": {
             "fill": {
              "color": "#EBF0F8"
             },
             "line": {
              "color": "white"
             }
            },
            "header": {
             "fill": {
              "color": "#C8D4E3"
             },
             "line": {
              "color": "white"
             }
            },
            "type": "table"
           }
          ]
         },
         "layout": {
          "annotationdefaults": {
           "arrowcolor": "#2a3f5f",
           "arrowhead": 0,
           "arrowwidth": 1
          },
          "autotypenumbers": "strict",
          "coloraxis": {
           "colorbar": {
            "outlinewidth": 0,
            "ticks": ""
           }
          },
          "colorscale": {
           "diverging": [
            [
             0,
             "#8e0152"
            ],
            [
             0.1,
             "#c51b7d"
            ],
            [
             0.2,
             "#de77ae"
            ],
            [
             0.3,
             "#f1b6da"
            ],
            [
             0.4,
             "#fde0ef"
            ],
            [
             0.5,
             "#f7f7f7"
            ],
            [
             0.6,
             "#e6f5d0"
            ],
            [
             0.7,
             "#b8e186"
            ],
            [
             0.8,
             "#7fbc41"
            ],
            [
             0.9,
             "#4d9221"
            ],
            [
             1,
             "#276419"
            ]
           ],
           "sequential": [
            [
             0,
             "#0d0887"
            ],
            [
             0.1111111111111111,
             "#46039f"
            ],
            [
             0.2222222222222222,
             "#7201a8"
            ],
            [
             0.3333333333333333,
             "#9c179e"
            ],
            [
             0.4444444444444444,
             "#bd3786"
            ],
            [
             0.5555555555555556,
             "#d8576b"
            ],
            [
             0.6666666666666666,
             "#ed7953"
            ],
            [
             0.7777777777777778,
             "#fb9f3a"
            ],
            [
             0.8888888888888888,
             "#fdca26"
            ],
            [
             1,
             "#f0f921"
            ]
           ],
           "sequentialminus": [
            [
             0,
             "#0d0887"
            ],
            [
             0.1111111111111111,
             "#46039f"
            ],
            [
             0.2222222222222222,
             "#7201a8"
            ],
            [
             0.3333333333333333,
             "#9c179e"
            ],
            [
             0.4444444444444444,
             "#bd3786"
            ],
            [
             0.5555555555555556,
             "#d8576b"
            ],
            [
             0.6666666666666666,
             "#ed7953"
            ],
            [
             0.7777777777777778,
             "#fb9f3a"
            ],
            [
             0.8888888888888888,
             "#fdca26"
            ],
            [
             1,
             "#f0f921"
            ]
           ]
          },
          "colorway": [
           "#636efa",
           "#EF553B",
           "#00cc96",
           "#ab63fa",
           "#FFA15A",
           "#19d3f3",
           "#FF6692",
           "#B6E880",
           "#FF97FF",
           "#FECB52"
          ],
          "font": {
           "color": "#2a3f5f"
          },
          "geo": {
           "bgcolor": "white",
           "lakecolor": "white",
           "landcolor": "#E5ECF6",
           "showlakes": true,
           "showland": true,
           "subunitcolor": "white"
          },
          "hoverlabel": {
           "align": "left"
          },
          "hovermode": "closest",
          "mapbox": {
           "style": "light"
          },
          "paper_bgcolor": "white",
          "plot_bgcolor": "#E5ECF6",
          "polar": {
           "angularaxis": {
            "gridcolor": "white",
            "linecolor": "white",
            "ticks": ""
           },
           "bgcolor": "#E5ECF6",
           "radialaxis": {
            "gridcolor": "white",
            "linecolor": "white",
            "ticks": ""
           }
          },
          "scene": {
           "xaxis": {
            "backgroundcolor": "#E5ECF6",
            "gridcolor": "white",
            "gridwidth": 2,
            "linecolor": "white",
            "showbackground": true,
            "ticks": "",
            "zerolinecolor": "white"
           },
           "yaxis": {
            "backgroundcolor": "#E5ECF6",
            "gridcolor": "white",
            "gridwidth": 2,
            "linecolor": "white",
            "showbackground": true,
            "ticks": "",
            "zerolinecolor": "white"
           },
           "zaxis": {
            "backgroundcolor": "#E5ECF6",
            "gridcolor": "white",
            "gridwidth": 2,
            "linecolor": "white",
            "showbackground": true,
            "ticks": "",
            "zerolinecolor": "white"
           }
          },
          "shapedefaults": {
           "line": {
            "color": "#2a3f5f"
           }
          },
          "ternary": {
           "aaxis": {
            "gridcolor": "white",
            "linecolor": "white",
            "ticks": ""
           },
           "baxis": {
            "gridcolor": "white",
            "linecolor": "white",
            "ticks": ""
           },
           "bgcolor": "#E5ECF6",
           "caxis": {
            "gridcolor": "white",
            "linecolor": "white",
            "ticks": ""
           }
          },
          "title": {
           "x": 0.05
          },
          "xaxis": {
           "automargin": true,
           "gridcolor": "white",
           "linecolor": "white",
           "ticks": "",
           "title": {
            "standoff": 15
           },
           "zerolinecolor": "white",
           "zerolinewidth": 2
          },
          "yaxis": {
           "automargin": true,
           "gridcolor": "white",
           "linecolor": "white",
           "ticks": "",
           "title": {
            "standoff": 15
           },
           "zerolinecolor": "white",
           "zerolinewidth": 2
          }
         }
        },
        "title": {
         "text": "EV Registrations by State (USA)"
        }
       }
      }
     },
     "metadata": {},
     "output_type": "display_data"
    }
   ],
   "source": [
    "\n",
    "# Grouping data\n",
    "grp = df2.groupby('State', as_index=False)['Registration Count'].sum()\n",
    "\n",
    "# Mapping full names to abbreviations\n",
    "state_abbrev = {\n",
    "    'Alabama': 'AL', 'Alaska': 'AK', 'Arizona': 'AZ', 'Arkansas': 'AR',\n",
    "    'California': 'CA', 'Colorado': 'CO', 'Connecticut': 'CT', 'Delaware': 'DE',\n",
    "    'Florida': 'FL', 'Georgia': 'GA', 'Hawaii': 'HI', 'Idaho': 'ID',\n",
    "    'Illinois': 'IL', 'Indiana': 'IN', 'Iowa': 'IA', 'Kansas': 'KS',\n",
    "    'Kentucky': 'KY', 'Louisiana': 'LA', 'Maine': 'ME', 'Maryland': 'MD',\n",
    "    'Massachusetts': 'MA', 'Michigan': 'MI', 'Minnesota': 'MN', 'Mississippi': 'MS',\n",
    "    'Missouri': 'MO', 'Montana': 'MT', 'Nebraska': 'NE', 'Nevada': 'NV',\n",
    "    'New Hampshire': 'NH', 'New Jersey': 'NJ', 'New Mexico': 'NM', 'New York': 'NY',\n",
    "    'North Carolina': 'NC', 'North Dakota': 'ND', 'Ohio': 'OH', 'Oklahoma': 'OK',\n",
    "    'Oregon': 'OR', 'Pennsylvania': 'PA', 'Rhode Island': 'RI', 'South Carolina': 'SC',\n",
    "    'South Dakota': 'SD', 'Tennessee': 'TN', 'Texas': 'TX', 'Utah': 'UT',\n",
    "    'Vermont': 'VT', 'Virginia': 'VA', 'Washington': 'WA', 'West Virginia': 'WV',\n",
    "    'Wisconsin': 'WI', 'Wyoming': 'WY'\n",
    "}\n",
    "\n",
    "# Add abbreviation column\n",
    "grp['State Code'] = grp['State'].map(state_abbrev)\n",
    "\n",
    "# Create choropleth map\n",
    "fig = px.choropleth(\n",
    "    grp,\n",
    "    locations='State Code',          # USE the abbreviations here\n",
    "    locationmode='USA-states',       # Recognize them as US states\n",
    "    color='Registration Count',\n",
    "    scope='usa',\n",
    "    color_continuous_scale='Reds',\n",
    "    title='EV Registrations by State (USA)'\n",
    ")\n",
    "\n",
    "fig.show()\n"
   ]
  },
  {
   "cell_type": "code",
   "execution_count": 19,
   "id": "f7cdd135",
   "metadata": {},
   "outputs": [
    {
     "data": {
      "text/plain": [
       "['state_name',\n",
       " 'ENERGY SOURCE',\n",
       " 'GENERATION (Megawatthours)',\n",
       " 'Registration Count']"
      ]
     },
     "execution_count": 19,
     "metadata": {},
     "output_type": "execute_result"
    }
   ],
   "source": [
    "compare = merged_df2.loc[merged_df2['YEAR'].isin([2019,2018])& merged_df2['ENERGY SOURCE'].isin([\"Wind\",\"Wood and Wood Derived Fuels\",\"Solar Thermal and Photovoltaic\",\"Geothermal\",\"Other Biomass\",\"Hydroelectric Conventional\"]),['YEAR','TYPE OF PRODUCER','ENERGY SOURCE','state_name','GENERATION (Megawatthours)','Registration Count']]\n",
    "\n",
    "major_enrgy_project = compare.groupby(['state_name','ENERGY SOURCE']).agg({'GENERATION (Megawatthours)':'mean','Registration Count':'mean'}).reset_index()\n",
    "max_gen_rows = major_enrgy_project.loc[\n",
    "    major_enrgy_project.groupby('state_name')['GENERATION (Megawatthours)'].idxmax()\n",
    "]\n",
    "max_gen_rows.columns.to_list()\n"
   ]
  },
  {
   "cell_type": "code",
   "execution_count": 20,
   "id": "ed521b20",
   "metadata": {},
   "outputs": [
    {
     "data": {
      "application/vnd.plotly.v1+json": {
       "config": {
        "plotlyServerURL": "https://plot.ly"
       },
       "data": [
        {
         "hovertemplate": "Renewable Energy Generation (MWh)=%{x}<br>EV Registrations=%{y}<extra></extra>",
         "legendgroup": "",
         "marker": {
          "color": "green",
          "line": {
           "color": "DarkSlateGrey",
           "width": 1
          },
          "size": 12,
          "symbol": "circle"
         },
         "mode": "markers",
         "name": "",
         "orientation": "v",
         "showlegend": false,
         "type": "scatter",
         "x": {
          "bdata": "AAAAMPiAZUGrqqqqt7gwQQAAACDPJllBVVVV1bIqQkEAAADcK9huQZqZmZnobU9BVVVVVQUBFEGrqqqqapzjQJqZmZltRDNBAAAAcLyHQkEAAAAA7EIhQVVVVRVWKFtBAAAAUDMjWUGrqqoqtaJNQQAAADhQt2ZBAAAACJoWY0EAAACAGv9FQQAAAMD85kFBAAAAwOSbQkEAAABATiVDQQAAAABxFSRBVVVV1ayxTEEAAABwm6xUQQAAAIDrXjVBAAAAwCW3RUFVVVVVHjlbQVVVVdW1OVBBq6qqquW+QkGrqqqqBKgsQQAAAAD+bBpBVVVV1XGCUEEAAABg4PtmQQAAAIDu3UlBAAAAIOXtVEEAAAAAdiYnQauqqnp66XFBAAAAgPPndEEAAAAAogFKQQAAAAAskAlBAAAAwITZNkEAAAAghgxbQQAAAFD5eWNBAAAAEFZjfkEAAACAxNJAQQAAAABkgCpBMzMzM4VKMUGrqqoKclmHQQAAAAC98jlBAAAAABAzM0EAAAAAjOdEQQ==",
          "dtype": "f8"
         },
         "xaxis": "x",
         "y": {
          "bdata": "AAAAAAColkAAAAAAAJCAQAAAAAAATM1AAAAAAABAgEAAAAAAAFkPQQAAAAAA2sZAAAAAAABisUAAAAAAAICGQAAAAAAAnNhAAAAAAADizUAAAAAAAL65QAAAAAAA4JBAAAAAAAA4yEAAAAAAAKynQAAAAAAACJFAAAAAAAAomUAAAAAAAGCTQAAAAAAAWJFAAAAAAABwh0AAAAAAAJC/QAAAAAAAEMNAAAAAAABysEAAAAAAAISyQAAAAAAAYHhAAAAAAAD0qkAAAAAAAEB/QAAAAAAAkIpAAAAAAADKskAAAAAAAICRQAAAAAAAosdAAAAAAACwk0AAAAAAADbQQAAAAAAAmLxAAAAAAABAZUAAAAAAAG65QAAAAAAAtKlAAAAAAAA4yEAAAAAAADa/QAAAAAAAwIJAAAAAAAB4nkAAAAAAAEBwQAAAAAAAGK9AAAAAAAAS1kAAAAAAAGS0QAAAAAAAkJBAAAAAAABZwEAAAAAAALzbQAAAAAAAwGxAAAAAAADArEAAAAAAAEBlQA==",
          "dtype": "f8"
         },
         "yaxis": "y"
        }
       ],
       "layout": {
        "legend": {
         "tracegroupgap": 0
        },
        "template": {
         "data": {
          "bar": [
           {
            "error_x": {
             "color": "#2a3f5f"
            },
            "error_y": {
             "color": "#2a3f5f"
            },
            "marker": {
             "line": {
              "color": "#E5ECF6",
              "width": 0.5
             },
             "pattern": {
              "fillmode": "overlay",
              "size": 10,
              "solidity": 0.2
             }
            },
            "type": "bar"
           }
          ],
          "barpolar": [
           {
            "marker": {
             "line": {
              "color": "#E5ECF6",
              "width": 0.5
             },
             "pattern": {
              "fillmode": "overlay",
              "size": 10,
              "solidity": 0.2
             }
            },
            "type": "barpolar"
           }
          ],
          "carpet": [
           {
            "aaxis": {
             "endlinecolor": "#2a3f5f",
             "gridcolor": "white",
             "linecolor": "white",
             "minorgridcolor": "white",
             "startlinecolor": "#2a3f5f"
            },
            "baxis": {
             "endlinecolor": "#2a3f5f",
             "gridcolor": "white",
             "linecolor": "white",
             "minorgridcolor": "white",
             "startlinecolor": "#2a3f5f"
            },
            "type": "carpet"
           }
          ],
          "choropleth": [
           {
            "colorbar": {
             "outlinewidth": 0,
             "ticks": ""
            },
            "type": "choropleth"
           }
          ],
          "contour": [
           {
            "colorbar": {
             "outlinewidth": 0,
             "ticks": ""
            },
            "colorscale": [
             [
              0,
              "#0d0887"
             ],
             [
              0.1111111111111111,
              "#46039f"
             ],
             [
              0.2222222222222222,
              "#7201a8"
             ],
             [
              0.3333333333333333,
              "#9c179e"
             ],
             [
              0.4444444444444444,
              "#bd3786"
             ],
             [
              0.5555555555555556,
              "#d8576b"
             ],
             [
              0.6666666666666666,
              "#ed7953"
             ],
             [
              0.7777777777777778,
              "#fb9f3a"
             ],
             [
              0.8888888888888888,
              "#fdca26"
             ],
             [
              1,
              "#f0f921"
             ]
            ],
            "type": "contour"
           }
          ],
          "contourcarpet": [
           {
            "colorbar": {
             "outlinewidth": 0,
             "ticks": ""
            },
            "type": "contourcarpet"
           }
          ],
          "heatmap": [
           {
            "colorbar": {
             "outlinewidth": 0,
             "ticks": ""
            },
            "colorscale": [
             [
              0,
              "#0d0887"
             ],
             [
              0.1111111111111111,
              "#46039f"
             ],
             [
              0.2222222222222222,
              "#7201a8"
             ],
             [
              0.3333333333333333,
              "#9c179e"
             ],
             [
              0.4444444444444444,
              "#bd3786"
             ],
             [
              0.5555555555555556,
              "#d8576b"
             ],
             [
              0.6666666666666666,
              "#ed7953"
             ],
             [
              0.7777777777777778,
              "#fb9f3a"
             ],
             [
              0.8888888888888888,
              "#fdca26"
             ],
             [
              1,
              "#f0f921"
             ]
            ],
            "type": "heatmap"
           }
          ],
          "histogram": [
           {
            "marker": {
             "pattern": {
              "fillmode": "overlay",
              "size": 10,
              "solidity": 0.2
             }
            },
            "type": "histogram"
           }
          ],
          "histogram2d": [
           {
            "colorbar": {
             "outlinewidth": 0,
             "ticks": ""
            },
            "colorscale": [
             [
              0,
              "#0d0887"
             ],
             [
              0.1111111111111111,
              "#46039f"
             ],
             [
              0.2222222222222222,
              "#7201a8"
             ],
             [
              0.3333333333333333,
              "#9c179e"
             ],
             [
              0.4444444444444444,
              "#bd3786"
             ],
             [
              0.5555555555555556,
              "#d8576b"
             ],
             [
              0.6666666666666666,
              "#ed7953"
             ],
             [
              0.7777777777777778,
              "#fb9f3a"
             ],
             [
              0.8888888888888888,
              "#fdca26"
             ],
             [
              1,
              "#f0f921"
             ]
            ],
            "type": "histogram2d"
           }
          ],
          "histogram2dcontour": [
           {
            "colorbar": {
             "outlinewidth": 0,
             "ticks": ""
            },
            "colorscale": [
             [
              0,
              "#0d0887"
             ],
             [
              0.1111111111111111,
              "#46039f"
             ],
             [
              0.2222222222222222,
              "#7201a8"
             ],
             [
              0.3333333333333333,
              "#9c179e"
             ],
             [
              0.4444444444444444,
              "#bd3786"
             ],
             [
              0.5555555555555556,
              "#d8576b"
             ],
             [
              0.6666666666666666,
              "#ed7953"
             ],
             [
              0.7777777777777778,
              "#fb9f3a"
             ],
             [
              0.8888888888888888,
              "#fdca26"
             ],
             [
              1,
              "#f0f921"
             ]
            ],
            "type": "histogram2dcontour"
           }
          ],
          "mesh3d": [
           {
            "colorbar": {
             "outlinewidth": 0,
             "ticks": ""
            },
            "type": "mesh3d"
           }
          ],
          "parcoords": [
           {
            "line": {
             "colorbar": {
              "outlinewidth": 0,
              "ticks": ""
             }
            },
            "type": "parcoords"
           }
          ],
          "pie": [
           {
            "automargin": true,
            "type": "pie"
           }
          ],
          "scatter": [
           {
            "fillpattern": {
             "fillmode": "overlay",
             "size": 10,
             "solidity": 0.2
            },
            "type": "scatter"
           }
          ],
          "scatter3d": [
           {
            "line": {
             "colorbar": {
              "outlinewidth": 0,
              "ticks": ""
             }
            },
            "marker": {
             "colorbar": {
              "outlinewidth": 0,
              "ticks": ""
             }
            },
            "type": "scatter3d"
           }
          ],
          "scattercarpet": [
           {
            "marker": {
             "colorbar": {
              "outlinewidth": 0,
              "ticks": ""
             }
            },
            "type": "scattercarpet"
           }
          ],
          "scattergeo": [
           {
            "marker": {
             "colorbar": {
              "outlinewidth": 0,
              "ticks": ""
             }
            },
            "type": "scattergeo"
           }
          ],
          "scattergl": [
           {
            "marker": {
             "colorbar": {
              "outlinewidth": 0,
              "ticks": ""
             }
            },
            "type": "scattergl"
           }
          ],
          "scattermap": [
           {
            "marker": {
             "colorbar": {
              "outlinewidth": 0,
              "ticks": ""
             }
            },
            "type": "scattermap"
           }
          ],
          "scattermapbox": [
           {
            "marker": {
             "colorbar": {
              "outlinewidth": 0,
              "ticks": ""
             }
            },
            "type": "scattermapbox"
           }
          ],
          "scatterpolar": [
           {
            "marker": {
             "colorbar": {
              "outlinewidth": 0,
              "ticks": ""
             }
            },
            "type": "scatterpolar"
           }
          ],
          "scatterpolargl": [
           {
            "marker": {
             "colorbar": {
              "outlinewidth": 0,
              "ticks": ""
             }
            },
            "type": "scatterpolargl"
           }
          ],
          "scatterternary": [
           {
            "marker": {
             "colorbar": {
              "outlinewidth": 0,
              "ticks": ""
             }
            },
            "type": "scatterternary"
           }
          ],
          "surface": [
           {
            "colorbar": {
             "outlinewidth": 0,
             "ticks": ""
            },
            "colorscale": [
             [
              0,
              "#0d0887"
             ],
             [
              0.1111111111111111,
              "#46039f"
             ],
             [
              0.2222222222222222,
              "#7201a8"
             ],
             [
              0.3333333333333333,
              "#9c179e"
             ],
             [
              0.4444444444444444,
              "#bd3786"
             ],
             [
              0.5555555555555556,
              "#d8576b"
             ],
             [
              0.6666666666666666,
              "#ed7953"
             ],
             [
              0.7777777777777778,
              "#fb9f3a"
             ],
             [
              0.8888888888888888,
              "#fdca26"
             ],
             [
              1,
              "#f0f921"
             ]
            ],
            "type": "surface"
           }
          ],
          "table": [
           {
            "cells": {
             "fill": {
              "color": "#EBF0F8"
             },
             "line": {
              "color": "white"
             }
            },
            "header": {
             "fill": {
              "color": "#C8D4E3"
             },
             "line": {
              "color": "white"
             }
            },
            "type": "table"
           }
          ]
         },
         "layout": {
          "annotationdefaults": {
           "arrowcolor": "#2a3f5f",
           "arrowhead": 0,
           "arrowwidth": 1
          },
          "autotypenumbers": "strict",
          "coloraxis": {
           "colorbar": {
            "outlinewidth": 0,
            "ticks": ""
           }
          },
          "colorscale": {
           "diverging": [
            [
             0,
             "#8e0152"
            ],
            [
             0.1,
             "#c51b7d"
            ],
            [
             0.2,
             "#de77ae"
            ],
            [
             0.3,
             "#f1b6da"
            ],
            [
             0.4,
             "#fde0ef"
            ],
            [
             0.5,
             "#f7f7f7"
            ],
            [
             0.6,
             "#e6f5d0"
            ],
            [
             0.7,
             "#b8e186"
            ],
            [
             0.8,
             "#7fbc41"
            ],
            [
             0.9,
             "#4d9221"
            ],
            [
             1,
             "#276419"
            ]
           ],
           "sequential": [
            [
             0,
             "#0d0887"
            ],
            [
             0.1111111111111111,
             "#46039f"
            ],
            [
             0.2222222222222222,
             "#7201a8"
            ],
            [
             0.3333333333333333,
             "#9c179e"
            ],
            [
             0.4444444444444444,
             "#bd3786"
            ],
            [
             0.5555555555555556,
             "#d8576b"
            ],
            [
             0.6666666666666666,
             "#ed7953"
            ],
            [
             0.7777777777777778,
             "#fb9f3a"
            ],
            [
             0.8888888888888888,
             "#fdca26"
            ],
            [
             1,
             "#f0f921"
            ]
           ],
           "sequentialminus": [
            [
             0,
             "#0d0887"
            ],
            [
             0.1111111111111111,
             "#46039f"
            ],
            [
             0.2222222222222222,
             "#7201a8"
            ],
            [
             0.3333333333333333,
             "#9c179e"
            ],
            [
             0.4444444444444444,
             "#bd3786"
            ],
            [
             0.5555555555555556,
             "#d8576b"
            ],
            [
             0.6666666666666666,
             "#ed7953"
            ],
            [
             0.7777777777777778,
             "#fb9f3a"
            ],
            [
             0.8888888888888888,
             "#fdca26"
            ],
            [
             1,
             "#f0f921"
            ]
           ]
          },
          "colorway": [
           "#636efa",
           "#EF553B",
           "#00cc96",
           "#ab63fa",
           "#FFA15A",
           "#19d3f3",
           "#FF6692",
           "#B6E880",
           "#FF97FF",
           "#FECB52"
          ],
          "font": {
           "color": "#2a3f5f"
          },
          "geo": {
           "bgcolor": "white",
           "lakecolor": "white",
           "landcolor": "#E5ECF6",
           "showlakes": true,
           "showland": true,
           "subunitcolor": "white"
          },
          "hoverlabel": {
           "align": "left"
          },
          "hovermode": "closest",
          "mapbox": {
           "style": "light"
          },
          "paper_bgcolor": "white",
          "plot_bgcolor": "#E5ECF6",
          "polar": {
           "angularaxis": {
            "gridcolor": "white",
            "linecolor": "white",
            "ticks": ""
           },
           "bgcolor": "#E5ECF6",
           "radialaxis": {
            "gridcolor": "white",
            "linecolor": "white",
            "ticks": ""
           }
          },
          "scene": {
           "xaxis": {
            "backgroundcolor": "#E5ECF6",
            "gridcolor": "white",
            "gridwidth": 2,
            "linecolor": "white",
            "showbackground": true,
            "ticks": "",
            "zerolinecolor": "white"
           },
           "yaxis": {
            "backgroundcolor": "#E5ECF6",
            "gridcolor": "white",
            "gridwidth": 2,
            "linecolor": "white",
            "showbackground": true,
            "ticks": "",
            "zerolinecolor": "white"
           },
           "zaxis": {
            "backgroundcolor": "#E5ECF6",
            "gridcolor": "white",
            "gridwidth": 2,
            "linecolor": "white",
            "showbackground": true,
            "ticks": "",
            "zerolinecolor": "white"
           }
          },
          "shapedefaults": {
           "line": {
            "color": "#2a3f5f"
           }
          },
          "ternary": {
           "aaxis": {
            "gridcolor": "white",
            "linecolor": "white",
            "ticks": ""
           },
           "baxis": {
            "gridcolor": "white",
            "linecolor": "white",
            "ticks": ""
           },
           "bgcolor": "#E5ECF6",
           "caxis": {
            "gridcolor": "white",
            "linecolor": "white",
            "ticks": ""
           }
          },
          "title": {
           "x": 0.05
          },
          "xaxis": {
           "automargin": true,
           "gridcolor": "white",
           "linecolor": "white",
           "ticks": "",
           "title": {
            "standoff": 15
           },
           "zerolinecolor": "white",
           "zerolinewidth": 2
          },
          "yaxis": {
           "automargin": true,
           "gridcolor": "white",
           "linecolor": "white",
           "ticks": "",
           "title": {
            "standoff": 15
           },
           "zerolinecolor": "white",
           "zerolinewidth": 2
          }
         }
        },
        "title": {
         "text": "EV Registrations vs Renewable Energy Generation by State"
        },
        "xaxis": {
         "anchor": "y",
         "domain": [
          0,
          1
         ],
         "title": {
          "text": "Renewable Energy Generation (MWh)"
         }
        },
        "yaxis": {
         "anchor": "x",
         "domain": [
          0,
          1
         ],
         "title": {
          "text": "EV Registrations"
         }
        }
       }
      }
     },
     "metadata": {},
     "output_type": "display_data"
    }
   ],
   "source": [
    "import matplotlib.pyplot as plt\n",
    "\n",
    "\n",
    "fig = px.scatter(\n",
    "    max_gen_rows,\n",
    "    x='GENERATION (Megawatthours)',\n",
    "    y='Registration Count',\n",
    "    #text='state_name',\n",
    "    title='EV Registrations vs Renewable Energy Generation by State',\n",
    "    labels={\n",
    "        'GENERATION (Megawatthours)': 'Renewable Energy Generation (MWh)',\n",
    "        'Registration Count': 'EV Registrations'\n",
    "    }\n",
    ")\n",
    "\n",
    "fig.update_traces(marker=dict(size=12, color='green', line=dict(width=1, color='DarkSlateGrey')))\n",
    "fig.show()\n"
   ]
  },
  {
   "cell_type": "code",
   "execution_count": 21,
   "id": "b4516369",
   "metadata": {},
   "outputs": [
    {
     "data": {
      "text/plain": [
       "['state_name',\n",
       " 'ENERGY SOURCE',\n",
       " 'GENERATION (Megawatthours)',\n",
       " 'Registration Count']"
      ]
     },
     "execution_count": 21,
     "metadata": {},
     "output_type": "execute_result"
    }
   ],
   "source": [
    "max_gen_rows.columns.to_list()"
   ]
  },
  {
   "cell_type": "code",
   "execution_count": 22,
   "id": "5b40aa73",
   "metadata": {},
   "outputs": [
    {
     "data": {
      "application/vnd.plotly.v1+json": {
       "config": {
        "plotlyServerURL": "https://plot.ly"
       },
       "data": [
        {
         "hovertemplate": "state_name=%{x}<br>Registration Count=%{y}<br>GENERATION (Megawatthours)=%{marker.color}<extra></extra>",
         "legendgroup": "",
         "marker": {
          "color": {
           "bdata": "AAAAMPiAZUGrqqqqt7gwQQAAACDPJllBVVVV1bIqQkEAAADcK9huQZqZmZnobU9BVVVVVQUBFEGrqqqqapzjQJqZmZltRDNBAAAAcLyHQkEAAAAA7EIhQVVVVRVWKFtBAAAAUDMjWUGrqqoqtaJNQQAAADhQt2ZBAAAACJoWY0EAAACAGv9FQQAAAMD85kFBAAAAwOSbQkEAAABATiVDQQAAAABxFSRBVVVV1ayxTEEAAABwm6xUQQAAAIDrXjVBAAAAwCW3RUFVVVVVHjlbQVVVVdW1OVBBq6qqquW+QkGrqqqqBKgsQQAAAAD+bBpBVVVV1XGCUEEAAABg4PtmQQAAAIDu3UlBAAAAIOXtVEEAAAAAdiYnQauqqnp66XFBAAAAgPPndEEAAAAAogFKQQAAAAAskAlBAAAAwITZNkEAAAAghgxbQQAAAFD5eWNBAAAAEFZjfkEAAACAxNJAQQAAAABkgCpBMzMzM4VKMUGrqqoKclmHQQAAAAC98jlBAAAAABAzM0EAAAAAjOdEQQ==",
           "dtype": "f8"
          },
          "coloraxis": "coloraxis",
          "pattern": {
           "shape": ""
          }
         },
         "name": "",
         "orientation": "v",
         "showlegend": false,
         "textposition": "auto",
         "type": "bar",
         "x": [
          "Alabama",
          "Alaska",
          "Arizona",
          "Arkansas",
          "California",
          "Colorado",
          "Connecticut",
          "Delaware",
          "Florida",
          "Georgia",
          "Hawaii",
          "Idaho",
          "Illinois",
          "Indiana",
          "Iowa",
          "Kansas",
          "Kentucky",
          "Louisiana",
          "Maine",
          "Maryland",
          "Massachusetts",
          "Michigan",
          "Minnesota",
          "Mississippi",
          "Missouri",
          "Montana",
          "Nebraska",
          "Nevada",
          "New Hampshire",
          "New Jersey",
          "New Mexico",
          "New York",
          "North Carolina",
          "North Dakota",
          "Ohio",
          "Oklahoma",
          "Oregon",
          "Pennsylvania",
          "Rhode Island",
          "South Carolina",
          "South Dakota",
          "Tennessee",
          "Texas",
          "Utah",
          "Vermont",
          "Virginia",
          "Washington",
          "West Virginia",
          "Wisconsin",
          "Wyoming"
         ],
         "xaxis": "x",
         "y": {
          "bdata": "AAAAAAColkAAAAAAAJCAQAAAAAAATM1AAAAAAABAgEAAAAAAAFkPQQAAAAAA2sZAAAAAAABisUAAAAAAAICGQAAAAAAAnNhAAAAAAADizUAAAAAAAL65QAAAAAAA4JBAAAAAAAA4yEAAAAAAAKynQAAAAAAACJFAAAAAAAAomUAAAAAAAGCTQAAAAAAAWJFAAAAAAABwh0AAAAAAAJC/QAAAAAAAEMNAAAAAAABysEAAAAAAAISyQAAAAAAAYHhAAAAAAAD0qkAAAAAAAEB/QAAAAAAAkIpAAAAAAADKskAAAAAAAICRQAAAAAAAosdAAAAAAACwk0AAAAAAADbQQAAAAAAAmLxAAAAAAABAZUAAAAAAAG65QAAAAAAAtKlAAAAAAAA4yEAAAAAAADa/QAAAAAAAwIJAAAAAAAB4nkAAAAAAAEBwQAAAAAAAGK9AAAAAAAAS1kAAAAAAAGS0QAAAAAAAkJBAAAAAAABZwEAAAAAAALzbQAAAAAAAwGxAAAAAAADArEAAAAAAAEBlQA==",
          "dtype": "f8"
         },
         "yaxis": "y"
        }
       ],
       "layout": {
        "barmode": "stack",
        "coloraxis": {
         "colorbar": {
          "title": {
           "text": "GENERATION (Megawatthours)"
          }
         },
         "colorscale": [
          [
           0,
           "#0d0887"
          ],
          [
           0.1111111111111111,
           "#46039f"
          ],
          [
           0.2222222222222222,
           "#7201a8"
          ],
          [
           0.3333333333333333,
           "#9c179e"
          ],
          [
           0.4444444444444444,
           "#bd3786"
          ],
          [
           0.5555555555555556,
           "#d8576b"
          ],
          [
           0.6666666666666666,
           "#ed7953"
          ],
          [
           0.7777777777777778,
           "#fb9f3a"
          ],
          [
           0.8888888888888888,
           "#fdca26"
          ],
          [
           1,
           "#f0f921"
          ]
         ]
        },
        "legend": {
         "tracegroupgap": 0
        },
        "template": {
         "data": {
          "bar": [
           {
            "error_x": {
             "color": "#2a3f5f"
            },
            "error_y": {
             "color": "#2a3f5f"
            },
            "marker": {
             "line": {
              "color": "#E5ECF6",
              "width": 0.5
             },
             "pattern": {
              "fillmode": "overlay",
              "size": 10,
              "solidity": 0.2
             }
            },
            "type": "bar"
           }
          ],
          "barpolar": [
           {
            "marker": {
             "line": {
              "color": "#E5ECF6",
              "width": 0.5
             },
             "pattern": {
              "fillmode": "overlay",
              "size": 10,
              "solidity": 0.2
             }
            },
            "type": "barpolar"
           }
          ],
          "carpet": [
           {
            "aaxis": {
             "endlinecolor": "#2a3f5f",
             "gridcolor": "white",
             "linecolor": "white",
             "minorgridcolor": "white",
             "startlinecolor": "#2a3f5f"
            },
            "baxis": {
             "endlinecolor": "#2a3f5f",
             "gridcolor": "white",
             "linecolor": "white",
             "minorgridcolor": "white",
             "startlinecolor": "#2a3f5f"
            },
            "type": "carpet"
           }
          ],
          "choropleth": [
           {
            "colorbar": {
             "outlinewidth": 0,
             "ticks": ""
            },
            "type": "choropleth"
           }
          ],
          "contour": [
           {
            "colorbar": {
             "outlinewidth": 0,
             "ticks": ""
            },
            "colorscale": [
             [
              0,
              "#0d0887"
             ],
             [
              0.1111111111111111,
              "#46039f"
             ],
             [
              0.2222222222222222,
              "#7201a8"
             ],
             [
              0.3333333333333333,
              "#9c179e"
             ],
             [
              0.4444444444444444,
              "#bd3786"
             ],
             [
              0.5555555555555556,
              "#d8576b"
             ],
             [
              0.6666666666666666,
              "#ed7953"
             ],
             [
              0.7777777777777778,
              "#fb9f3a"
             ],
             [
              0.8888888888888888,
              "#fdca26"
             ],
             [
              1,
              "#f0f921"
             ]
            ],
            "type": "contour"
           }
          ],
          "contourcarpet": [
           {
            "colorbar": {
             "outlinewidth": 0,
             "ticks": ""
            },
            "type": "contourcarpet"
           }
          ],
          "heatmap": [
           {
            "colorbar": {
             "outlinewidth": 0,
             "ticks": ""
            },
            "colorscale": [
             [
              0,
              "#0d0887"
             ],
             [
              0.1111111111111111,
              "#46039f"
             ],
             [
              0.2222222222222222,
              "#7201a8"
             ],
             [
              0.3333333333333333,
              "#9c179e"
             ],
             [
              0.4444444444444444,
              "#bd3786"
             ],
             [
              0.5555555555555556,
              "#d8576b"
             ],
             [
              0.6666666666666666,
              "#ed7953"
             ],
             [
              0.7777777777777778,
              "#fb9f3a"
             ],
             [
              0.8888888888888888,
              "#fdca26"
             ],
             [
              1,
              "#f0f921"
             ]
            ],
            "type": "heatmap"
           }
          ],
          "histogram": [
           {
            "marker": {
             "pattern": {
              "fillmode": "overlay",
              "size": 10,
              "solidity": 0.2
             }
            },
            "type": "histogram"
           }
          ],
          "histogram2d": [
           {
            "colorbar": {
             "outlinewidth": 0,
             "ticks": ""
            },
            "colorscale": [
             [
              0,
              "#0d0887"
             ],
             [
              0.1111111111111111,
              "#46039f"
             ],
             [
              0.2222222222222222,
              "#7201a8"
             ],
             [
              0.3333333333333333,
              "#9c179e"
             ],
             [
              0.4444444444444444,
              "#bd3786"
             ],
             [
              0.5555555555555556,
              "#d8576b"
             ],
             [
              0.6666666666666666,
              "#ed7953"
             ],
             [
              0.7777777777777778,
              "#fb9f3a"
             ],
             [
              0.8888888888888888,
              "#fdca26"
             ],
             [
              1,
              "#f0f921"
             ]
            ],
            "type": "histogram2d"
           }
          ],
          "histogram2dcontour": [
           {
            "colorbar": {
             "outlinewidth": 0,
             "ticks": ""
            },
            "colorscale": [
             [
              0,
              "#0d0887"
             ],
             [
              0.1111111111111111,
              "#46039f"
             ],
             [
              0.2222222222222222,
              "#7201a8"
             ],
             [
              0.3333333333333333,
              "#9c179e"
             ],
             [
              0.4444444444444444,
              "#bd3786"
             ],
             [
              0.5555555555555556,
              "#d8576b"
             ],
             [
              0.6666666666666666,
              "#ed7953"
             ],
             [
              0.7777777777777778,
              "#fb9f3a"
             ],
             [
              0.8888888888888888,
              "#fdca26"
             ],
             [
              1,
              "#f0f921"
             ]
            ],
            "type": "histogram2dcontour"
           }
          ],
          "mesh3d": [
           {
            "colorbar": {
             "outlinewidth": 0,
             "ticks": ""
            },
            "type": "mesh3d"
           }
          ],
          "parcoords": [
           {
            "line": {
             "colorbar": {
              "outlinewidth": 0,
              "ticks": ""
             }
            },
            "type": "parcoords"
           }
          ],
          "pie": [
           {
            "automargin": true,
            "type": "pie"
           }
          ],
          "scatter": [
           {
            "fillpattern": {
             "fillmode": "overlay",
             "size": 10,
             "solidity": 0.2
            },
            "type": "scatter"
           }
          ],
          "scatter3d": [
           {
            "line": {
             "colorbar": {
              "outlinewidth": 0,
              "ticks": ""
             }
            },
            "marker": {
             "colorbar": {
              "outlinewidth": 0,
              "ticks": ""
             }
            },
            "type": "scatter3d"
           }
          ],
          "scattercarpet": [
           {
            "marker": {
             "colorbar": {
              "outlinewidth": 0,
              "ticks": ""
             }
            },
            "type": "scattercarpet"
           }
          ],
          "scattergeo": [
           {
            "marker": {
             "colorbar": {
              "outlinewidth": 0,
              "ticks": ""
             }
            },
            "type": "scattergeo"
           }
          ],
          "scattergl": [
           {
            "marker": {
             "colorbar": {
              "outlinewidth": 0,
              "ticks": ""
             }
            },
            "type": "scattergl"
           }
          ],
          "scattermap": [
           {
            "marker": {
             "colorbar": {
              "outlinewidth": 0,
              "ticks": ""
             }
            },
            "type": "scattermap"
           }
          ],
          "scattermapbox": [
           {
            "marker": {
             "colorbar": {
              "outlinewidth": 0,
              "ticks": ""
             }
            },
            "type": "scattermapbox"
           }
          ],
          "scatterpolar": [
           {
            "marker": {
             "colorbar": {
              "outlinewidth": 0,
              "ticks": ""
             }
            },
            "type": "scatterpolar"
           }
          ],
          "scatterpolargl": [
           {
            "marker": {
             "colorbar": {
              "outlinewidth": 0,
              "ticks": ""
             }
            },
            "type": "scatterpolargl"
           }
          ],
          "scatterternary": [
           {
            "marker": {
             "colorbar": {
              "outlinewidth": 0,
              "ticks": ""
             }
            },
            "type": "scatterternary"
           }
          ],
          "surface": [
           {
            "colorbar": {
             "outlinewidth": 0,
             "ticks": ""
            },
            "colorscale": [
             [
              0,
              "#0d0887"
             ],
             [
              0.1111111111111111,
              "#46039f"
             ],
             [
              0.2222222222222222,
              "#7201a8"
             ],
             [
              0.3333333333333333,
              "#9c179e"
             ],
             [
              0.4444444444444444,
              "#bd3786"
             ],
             [
              0.5555555555555556,
              "#d8576b"
             ],
             [
              0.6666666666666666,
              "#ed7953"
             ],
             [
              0.7777777777777778,
              "#fb9f3a"
             ],
             [
              0.8888888888888888,
              "#fdca26"
             ],
             [
              1,
              "#f0f921"
             ]
            ],
            "type": "surface"
           }
          ],
          "table": [
           {
            "cells": {
             "fill": {
              "color": "#EBF0F8"
             },
             "line": {
              "color": "white"
             }
            },
            "header": {
             "fill": {
              "color": "#C8D4E3"
             },
             "line": {
              "color": "white"
             }
            },
            "type": "table"
           }
          ]
         },
         "layout": {
          "annotationdefaults": {
           "arrowcolor": "#2a3f5f",
           "arrowhead": 0,
           "arrowwidth": 1
          },
          "autotypenumbers": "strict",
          "coloraxis": {
           "colorbar": {
            "outlinewidth": 0,
            "ticks": ""
           }
          },
          "colorscale": {
           "diverging": [
            [
             0,
             "#8e0152"
            ],
            [
             0.1,
             "#c51b7d"
            ],
            [
             0.2,
             "#de77ae"
            ],
            [
             0.3,
             "#f1b6da"
            ],
            [
             0.4,
             "#fde0ef"
            ],
            [
             0.5,
             "#f7f7f7"
            ],
            [
             0.6,
             "#e6f5d0"
            ],
            [
             0.7,
             "#b8e186"
            ],
            [
             0.8,
             "#7fbc41"
            ],
            [
             0.9,
             "#4d9221"
            ],
            [
             1,
             "#276419"
            ]
           ],
           "sequential": [
            [
             0,
             "#0d0887"
            ],
            [
             0.1111111111111111,
             "#46039f"
            ],
            [
             0.2222222222222222,
             "#7201a8"
            ],
            [
             0.3333333333333333,
             "#9c179e"
            ],
            [
             0.4444444444444444,
             "#bd3786"
            ],
            [
             0.5555555555555556,
             "#d8576b"
            ],
            [
             0.6666666666666666,
             "#ed7953"
            ],
            [
             0.7777777777777778,
             "#fb9f3a"
            ],
            [
             0.8888888888888888,
             "#fdca26"
            ],
            [
             1,
             "#f0f921"
            ]
           ],
           "sequentialminus": [
            [
             0,
             "#0d0887"
            ],
            [
             0.1111111111111111,
             "#46039f"
            ],
            [
             0.2222222222222222,
             "#7201a8"
            ],
            [
             0.3333333333333333,
             "#9c179e"
            ],
            [
             0.4444444444444444,
             "#bd3786"
            ],
            [
             0.5555555555555556,
             "#d8576b"
            ],
            [
             0.6666666666666666,
             "#ed7953"
            ],
            [
             0.7777777777777778,
             "#fb9f3a"
            ],
            [
             0.8888888888888888,
             "#fdca26"
            ],
            [
             1,
             "#f0f921"
            ]
           ]
          },
          "colorway": [
           "#636efa",
           "#EF553B",
           "#00cc96",
           "#ab63fa",
           "#FFA15A",
           "#19d3f3",
           "#FF6692",
           "#B6E880",
           "#FF97FF",
           "#FECB52"
          ],
          "font": {
           "color": "#2a3f5f"
          },
          "geo": {
           "bgcolor": "white",
           "lakecolor": "white",
           "landcolor": "#E5ECF6",
           "showlakes": true,
           "showland": true,
           "subunitcolor": "white"
          },
          "hoverlabel": {
           "align": "left"
          },
          "hovermode": "closest",
          "mapbox": {
           "style": "light"
          },
          "paper_bgcolor": "white",
          "plot_bgcolor": "#E5ECF6",
          "polar": {
           "angularaxis": {
            "gridcolor": "white",
            "linecolor": "white",
            "ticks": ""
           },
           "bgcolor": "#E5ECF6",
           "radialaxis": {
            "gridcolor": "white",
            "linecolor": "white",
            "ticks": ""
           }
          },
          "scene": {
           "xaxis": {
            "backgroundcolor": "#E5ECF6",
            "gridcolor": "white",
            "gridwidth": 2,
            "linecolor": "white",
            "showbackground": true,
            "ticks": "",
            "zerolinecolor": "white"
           },
           "yaxis": {
            "backgroundcolor": "#E5ECF6",
            "gridcolor": "white",
            "gridwidth": 2,
            "linecolor": "white",
            "showbackground": true,
            "ticks": "",
            "zerolinecolor": "white"
           },
           "zaxis": {
            "backgroundcolor": "#E5ECF6",
            "gridcolor": "white",
            "gridwidth": 2,
            "linecolor": "white",
            "showbackground": true,
            "ticks": "",
            "zerolinecolor": "white"
           }
          },
          "shapedefaults": {
           "line": {
            "color": "#2a3f5f"
           }
          },
          "ternary": {
           "aaxis": {
            "gridcolor": "white",
            "linecolor": "white",
            "ticks": ""
           },
           "baxis": {
            "gridcolor": "white",
            "linecolor": "white",
            "ticks": ""
           },
           "bgcolor": "#E5ECF6",
           "caxis": {
            "gridcolor": "white",
            "linecolor": "white",
            "ticks": ""
           }
          },
          "title": {
           "x": 0.05
          },
          "xaxis": {
           "automargin": true,
           "gridcolor": "white",
           "linecolor": "white",
           "ticks": "",
           "title": {
            "standoff": 15
           },
           "zerolinecolor": "white",
           "zerolinewidth": 2
          },
          "yaxis": {
           "automargin": true,
           "gridcolor": "white",
           "linecolor": "white",
           "ticks": "",
           "title": {
            "standoff": 15
           },
           "zerolinecolor": "white",
           "zerolinewidth": 2
          }
         }
        },
        "title": {
         "text": "Total Renewable + EV Distribution per State"
        },
        "xaxis": {
         "anchor": "y",
         "domain": [
          0,
          1
         ],
         "tickangle": -45,
         "title": {
          "text": "state_name"
         }
        },
        "yaxis": {
         "anchor": "x",
         "domain": [
          0,
          1
         ],
         "title": {
          "text": "Registration Count"
         }
        }
       }
      }
     },
     "metadata": {},
     "output_type": "display_data"
    }
   ],
   "source": [
    "fig = px.bar(\n",
    "    max_gen_rows,\n",
    "    x='state_name',\n",
    "    y='Registration Count',\n",
    "    color='GENERATION (Megawatthours)',\n",
    "    barmode='stack',\n",
    "    title='Total Renewable + EV Distribution per State'\n",
    ")\n",
    "fig.update_layout(xaxis_tickangle=-45)\n",
    "fig.show()\n"
   ]
  }
 ],
 "metadata": {
  "kernelspec": {
   "display_name": "Python 3",
   "language": "python",
   "name": "python3"
  },
  "language_info": {
   "codemirror_mode": {
    "name": "ipython",
    "version": 3
   },
   "file_extension": ".py",
   "mimetype": "text/x-python",
   "name": "python",
   "nbconvert_exporter": "python",
   "pygments_lexer": "ipython3",
   "version": "3.12.1"
  }
 },
 "nbformat": 4,
 "nbformat_minor": 5
}
